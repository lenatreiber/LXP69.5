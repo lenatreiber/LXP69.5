{
 "cells": [
  {
   "cell_type": "code",
   "execution_count": 1,
   "metadata": {},
   "outputs": [],
   "source": [
    "import numpy as np\n",
    "from uncertainties import ufloat, unumpy\n",
    "from uncertainties.umath import *\n",
    "from astropy.io import fits\n",
    "from astropy.table import Table\n",
    "import scipy.stats as st\n",
    "import pandas\n",
    "import matplotlib.pyplot as plt\n",
    "from astropy.stats import LombScargle\n",
    "from scipy.ndimage.filters import gaussian_filter\n",
    "from scipy import signal\n",
    "from importlib import reload as reload\n",
    "import warnings\n",
    "warnings.filterwarnings(\"ignore\")\n",
    "\n",
    "import pulsations as p #PF functions in module but move to notebook to simplify"
   ]
  },
  {
   "cell_type": "markdown",
   "metadata": {},
   "source": [
    "# set up directories\n",
    "- note: epoch 2 was the short epoch that we did not end up using\n",
    "- as such, our usual \"NICER epoch 2\" is referred to as **epoch 3** in this notebook"
   ]
  },
  {
   "cell_type": "code",
   "execution_count": 2,
   "metadata": {},
   "outputs": [],
   "source": [
    "datadir = 'NIC_3ep'\n",
    "\n",
    "#paths to each epoch\n",
    "e1path = datadir+'/epoch1/'\n",
    "e2path = datadir+'/epoch2/'\n",
    "e3path = datadir+'/epoch3/'\n",
    "#tables of start and end times from each epoch\n",
    "tep1 = p.readevt(e1path+'epoch1-sun80-spaceweather_bar.evt',ind=2)\n",
    "tep2 = p.readevt(e2path+'epoch2-sun80-spaceweather_bar.evt',ind=2)\n",
    "tep3 = p.readevt(e3path+'epoch3-sun80-spaceweather_bar.evt',ind=2)\n",
    "#corresponding event tables\n",
    "ep1 = p.readevt(e1path+'epoch1-sun80-spaceweather_bar.evt')\n",
    "ep2 = p.readevt(e2path+'epoch2-sun80-spaceweather_bar.evt')\n",
    "ep3 = p.readevt(e3path+'epoch3-sun80-spaceweather_bar.evt')"
   ]
  },
  {
   "cell_type": "markdown",
   "metadata": {},
   "source": [
    "# exposure times"
   ]
  },
  {
   "cell_type": "code",
   "execution_count": 3,
   "metadata": {},
   "outputs": [
    {
     "name": "stdout",
     "output_type": "stream",
     "text": [
      "6464.003115236759 527.9994794428349 3014.9777161478996\n"
     ]
    }
   ],
   "source": [
    "ep1time = np.sum(tep1['STOP']-tep1['START'])\n",
    "ep2time = np.sum(tep2['STOP']-tep2['START'])\n",
    "ep3time = np.sum(tep3['STOP']-tep3['START'])\n",
    "print(ep1time,ep2time,ep3time)"
   ]
  },
  {
   "cell_type": "markdown",
   "metadata": {},
   "source": [
    "# filter to 0.3--8.0 keV"
   ]
  },
  {
   "cell_type": "code",
   "execution_count": 4,
   "metadata": {},
   "outputs": [],
   "source": [
    "#first epoch\n",
    "ep1 = ep1[ep1['PI']>=30]\n",
    "ep1 = ep1[ep1['PI']<=800]\n",
    "soft_ep1 = ep1[ep1['PI']<=150]\n",
    "hard_ep1 = ep1[ep1['PI']>150]\n",
    "\n",
    "#epoch 3\n",
    "ep3 = ep3[ep3['PI']>=30]\n",
    "ep3 = ep3[ep3['PI']<=800]\n",
    "soft_ep3 = ep3[ep3['PI']<=150]\n",
    "hard_ep3 = ep3[ep3['PI']>150]"
   ]
  },
  {
   "cell_type": "markdown",
   "metadata": {},
   "source": [
    "# original periodicities"
   ]
  },
  {
   "cell_type": "code",
   "execution_count": 5,
   "metadata": {},
   "outputs": [],
   "source": [
    "#period for first epoch; variable names from original naming\n",
    "pd = 68.68201618721699\n",
    "#period for third epoch\n",
    "compd = 68.56842782790496"
   ]
  },
  {
   "cell_type": "markdown",
   "metadata": {},
   "source": [
    "# total, soft, hard band BGs: 3C50\n"
   ]
  },
  {
   "cell_type": "code",
   "execution_count": 6,
   "metadata": {},
   "outputs": [
    {
     "name": "stdout",
     "output_type": "stream",
     "text": [
      "soft: 0.5770739793127981 hard: 0.8830985843036553 total: 1.4515945974534579\n"
     ]
    }
   ],
   "source": [
    "#background percentages for epoch 1 (updated and checked)\n",
    "ep1_ssub = .136*len(soft_ep1)/ep1time #avg rate * percentage that's BG\n",
    "ep1_hsub = .208*len(hard_ep1)/ep1time\n",
    "ep1_tsub = .171*len(ep1)/ep1time\n",
    "print('soft:',ep1_ssub,'hard:',ep1_hsub,'total:',ep1_tsub)\n",
    "\n",
    "#also save percentage that's background without converting to rate to subtract\n",
    "ep1_sper = 0.136\n",
    "ep1_hper = 0.208\n",
    "ep1_tper = 0.171"
   ]
  },
  {
   "cell_type": "code",
   "execution_count": 7,
   "metadata": {},
   "outputs": [
    {
     "name": "stdout",
     "output_type": "stream",
     "text": [
      "0.5724191561206682 1.049389845588098 1.62126571411124\n"
     ]
    }
   ],
   "source": [
    "#background percentages for epoch 3\n",
    "ep3_ssub = .233*len(soft_ep3)/ep3time \n",
    "ep3_hsub = .339*len(hard_ep3)/ep3time\n",
    "ep3_tsub = .292*len(ep3)/ep3time\n",
    "print(ep3_ssub,ep3_hsub,ep3_tsub)\n",
    "\n",
    "ep3_sper = 0.233\n",
    "ep3_hper = 0.339\n",
    "ep3_tper = 0.292"
   ]
  },
  {
   "cell_type": "markdown",
   "metadata": {},
   "source": [
    "# function to calculate single rms PF\n",
    "- pass in count rates and errors\n",
    "- **function for count rate pulse profile defined right after**"
   ]
  },
  {
   "cell_type": "code",
   "execution_count": 8,
   "metadata": {},
   "outputs": [],
   "source": [
    "def rms_spf(cr,err,nbins=64,onephase=True,printall=False):\n",
    "    '''Calculate single rms PF'''\n",
    "    totlen = len(cr)\n",
    "    if printall: print('tot len:',totlen)\n",
    "    if onephase: #only use up to phase 1 in calculation\n",
    "        cr=cr[:int(totlen/2)] #count rate in phase bins up to 1\n",
    "        err=err[:int(totlen/2)]\n",
    "    rerr=unumpy.uarray(cr,err)\n",
    "#     if printall: print(rerr)\n",
    "    if printall: print(f'final len: {len(cr)}')\n",
    "    #phase-averaged count rate\n",
    "    avgr = np.mean(rerr)\n",
    "    if printall: print(f'average rate: {avgr}')\n",
    "    #len(r) is N (number of phase bins)\n",
    "    num = np.sum(((rerr-avgr)**2))/len(cr)\n",
    "    if printall: print(len(cr))\n",
    "    num = (num)**(1/2)\n",
    "    full = num/avgr\n",
    "    return full #PFs and errors"
   ]
  },
  {
   "cell_type": "code",
   "execution_count": 9,
   "metadata": {},
   "outputs": [],
   "source": [
    "def cr_profile(evt,pd,expt,sbg,bins=64,plot=False,color='black'):\n",
    "    '''Create BG-subtracted count rate pulse profile. Code copied from phashist and s_phaserate functions\n",
    "    in pulsations module'''\n",
    "    #convert bg percentage to average bg count rate (which will then be subtracted after converting to count rate)\n",
    "    pfbg = sbg*len(evt)/expt\n",
    "    #copied from the phasehist function, which you've seen before\n",
    "    plt.figure(figsize=(5,4))\n",
    "    ph = (evt['TIME'])%pd \n",
    "    ph_1 = ph/pd #divides phase by period so that x-axis goes to 1, not pd\n",
    "    ph_2 = ph_1+1 \n",
    "    ph_3 = list(ph_1)+list(ph_2) #duplicates and concatenates \n",
    "    #binning must be done this way to be more precise\n",
    "    binw = 2./bins\n",
    "    a = plt.hist(ph_3,bins=np.arange(0,2.01,binw),color=color,histtype='step',label='all')\n",
    "    plt.xlim(0,2)\n",
    "    plt.xlabel('Phase',fontsize=14)\n",
    "    plt.ylabel('Counts',fontsize=14)\n",
    "    #constructs list of middle of each phase bin\n",
    "    mids = []\n",
    "    for t in range(1,len(a[1])):\n",
    "        mids.append(np.median((a[1][t],a[1][t-1])))\n",
    "    #adds error as sqrt of counts\n",
    "    plt.errorbar(mids,a[0],yerr=np.sqrt(a[0]),linestyle='none',color=color)\n",
    "    #returns histogram (counts and bin boundary arrays), and array of middles of phase bins\n",
    "    \n",
    "    plt.close()\n",
    "    hist = a\n",
    "    #below: want phase bins (up to 1) not total phase bins -- so divide by 2\n",
    "    bins /= 2\n",
    "    \n",
    "    #now convert to count rate and subtract BG (uses s_phaserate from pulsations module)\n",
    "    counts = hist[0] #array of counts in each bin \n",
    "    binb = hist[1] #array of bin boundaries\n",
    "    #convert to count rate using exposure time, number of bins; and subtract average bg rate\n",
    "    cr = (counts*bins/(expt))-pfbg\n",
    "    hist2 = plt.hist(binb[:-1],binb,weights=cr,color=color,histtype='step')\n",
    "    err = np.sqrt(counts)*bins/expt\n",
    "    plt.errorbar(mids,cr,yerr=err,color=color,linestyle='none')\n",
    "    plt.xlim(0,2)\n",
    "    plt.xlabel('Phase',fontsize=14)\n",
    "    plt.ylabel('Counts/s',fontsize=14)\n",
    "    if not plot: plt.close()\n",
    "\n",
    "    return cr,err"
   ]
  },
  {
   "cell_type": "code",
   "execution_count": 10,
   "metadata": {},
   "outputs": [],
   "source": [
    "def both(evt,pd,expt,sbg,bins=64,plot=False,color='black',printall=False):\n",
    "    '''call both functions above and plot PFs'''\n",
    "    #get pulse profile count rates and count rate errors\n",
    "    cr,err = cr_profile(evt,pd,expt,sbg,bins=bins,plot=plot,color=color)\n",
    "    #calculate rms pulsed fractions\n",
    "    pf = rms_spf(cr,err,nbins=bins,printall=printall)\n",
    "    return pf"
   ]
  },
  {
   "cell_type": "markdown",
   "metadata": {},
   "source": [
    "# define all BG percentages\n",
    "- space weather and 3C50\n",
    "- first: BGs for two bins in 3-8 range; then for 1 bin"
   ]
  },
  {
   "cell_type": "code",
   "execution_count": 11,
   "metadata": {},
   "outputs": [],
   "source": [
    "#3C50 BG percentages in order of energy band; n means \"new\"\n",
    "nep1pfbg = [.195,.112,.10,.107,.156,.217,.445]\n",
    "#epoch 3\n",
    "nep3pfbg = [.359,.19,.169,.179,.258,.349,.628]\n",
    "#(just redefined for convenience) percentage from 0.3-8 keV\n",
    "nep1pfbg_t = .171\n",
    "nep3pfbg_t = .292\n",
    "\n",
    "#ep3 soft, hard: .233,.339s\n",
    "#space weather BGs\n",
    "ep1pfbg = [0.167,0.088,0.073,0.067,0.071,0.074,0.128]\n",
    "ep3pfbg = [0.26,0.125,0.098,0.087,0.091,0.08,0.145]\n",
    "ep1pfbg_t = 0.095\n",
    "ep3pfbg_t = 0.123"
   ]
  },
  {
   "cell_type": "code",
   "execution_count": 12,
   "metadata": {},
   "outputs": [],
   "source": [
    "#3C50; s refers to \"single (bin in 3-8 keV)\"\n",
    "s_nep1pfbg = [.195,.112,.10,.107,.156,.302]\n",
    "s_nep3pfbg = [.359,.19,.169,.179,.258,.462]\n",
    "\n",
    "\n",
    "#space weather\n",
    "s_ep1pfbg = [0.167,0.088,0.073,0.067,0.071,0.096]\n",
    "s_ep3pfbg = [0.26,0.125,0.098,0.087,0.091,0.107]"
   ]
  },
  {
   "cell_type": "markdown",
   "metadata": {},
   "source": [
    "# check suspicious ranges: epoch 1 3-8 keV and 2-3 keV"
   ]
  },
  {
   "cell_type": "code",
   "execution_count": 13,
   "metadata": {},
   "outputs": [
    {
     "data": {
      "text/plain": [
       "0.445"
      ]
     },
     "execution_count": 13,
     "metadata": {},
     "output_type": "execute_result"
    }
   ],
   "source": [
    "nep1pfbg[-1]"
   ]
  },
  {
   "cell_type": "code",
   "execution_count": 30,
   "metadata": {},
   "outputs": [],
   "source": [
    "onehard = True #one bin between 3 and 8 keV\n",
    "evt = ep1\n",
    "en1 = evt[evt['PI']<=70]\n",
    "en2 = evt[evt['PI']>70]\n",
    "en2 = en2[en2['PI']<=100]\n",
    "en3 = evt[evt['PI']>100]\n",
    "en3 = en3[en3['PI']<=150]\n",
    "en4 = evt[evt['PI']>150]\n",
    "en4 = en4[en4['PI']<=200]\n",
    "en5 = evt[evt['PI']>200]\n",
    "en5 = en5[en5['PI']<=300]\n",
    "en6 = evt[evt['PI']>300]\n",
    "#only one bin 3-8 keV\n",
    "if onehard: en6 = en6[en6['PI']<=800]\n",
    "#two bins 3-8 keV\n",
    "else:\n",
    "    en6 = en6[en6['PI']<=500]\n",
    "    en7 = evt[evt['PI']>500]\n",
    "    en7 = en7[en7['PI']<=800]"
   ]
  },
  {
   "cell_type": "code",
   "execution_count": 31,
   "metadata": {},
   "outputs": [
    {
     "name": "stdout",
     "output_type": "stream",
     "text": [
      "tot len: 64\n",
      "final len: 32\n",
      "average rate: 1.382+/-0.017\n",
      "32\n",
      "RMS PF for 3-8 keV; profile in black 0.398+/-0.012\n",
      "tot len: 64\n",
      "final len: 32\n",
      "average rate: 0.929+/-0.013\n",
      "32\n",
      "RMS PF for 2-3 keV; profile in red 0.462+/-0.013\n"
     ]
    },
    {
     "data": {
      "image/png": "[encoded data removed]",
      "text/plain": [
       "<Figure size 432x288 with 1 Axes>"
      ]
     },
     "metadata": {
      "needs_background": "light"
     },
     "output_type": "display_data"
    }
   ],
   "source": [
    "#printall is True gives full calculation\n",
    "print('RMS PF for 3-8 keV; profile in black',both(en6,pd,ep1time,s_nep1pfbg[-1],bins=64,plot=True,color='black',printall=True))\n",
    "print('RMS PF for 2-3 keV; profile in red',both(en5,pd,ep1time,s_nep1pfbg[-2],bins=64,plot=True,color='red',printall=True))"
   ]
  },
  {
   "cell_type": "markdown",
   "metadata": {},
   "source": [
    "# calculate all PFs (six energy bins) for each epoch\n"
   ]
  },
  {
   "cell_type": "code",
   "execution_count": 32,
   "metadata": {},
   "outputs": [],
   "source": [
    "ep1_pfs = []\n",
    "ep1_errs = []\n",
    "#repeat with space weather bg\n",
    "ep1_pfs_sw = []\n",
    "ep1_swerrs = []\n",
    "\n",
    "\n",
    "bands = [en1,en2,en3,en4,en5,en6]\n",
    "for i in range(6):\n",
    "    #use energy band event table and associate bg (3C50)\n",
    "    pf = both(bands[i],pd,ep1time,s_nep1pfbg[i],bins=64,plot=False,color='black',printall=False)\n",
    "    #repeat with space weather bg\n",
    "    pf_sw = both(bands[i],pd,ep1time,s_ep1pfbg[i],bins=64,plot=False,color='black',printall=False)\n",
    "    pfn,pfe = pf.n,pf.s\n",
    "    pfn_sw,pfe_sw = pf_sw.n,pf_sw.s\n",
    "    ep1_pfs.append(pfn)\n",
    "    ep1_errs.append(pfe)\n",
    "    ep1_pfs_sw.append(pfn_sw)\n",
    "    ep1_swerrs.append(pfe_sw)"
   ]
  },
  {
   "cell_type": "code",
   "execution_count": 33,
   "metadata": {},
   "outputs": [
    {
     "data": {
      "text/plain": [
       "[0.32795789739499254,\n",
       " 0.4298175716930778,\n",
       " 0.465103372429604,\n",
       " 0.4806874402509125,\n",
       " 0.4618407886231457,\n",
       " 0.3979429871333349]"
      ]
     },
     "execution_count": 33,
     "metadata": {},
     "output_type": "execute_result"
    }
   ],
   "source": [
    "ep1_pfs"
   ]
  },
  {
   "cell_type": "code",
   "execution_count": 25,
   "metadata": {},
   "outputs": [],
   "source": [
    "#repeat energy tables for epoch 3\n",
    "\n",
    "onehard = True #one bin between 3 and 8 keV\n",
    "evt = ep3\n",
    "en1 = evt[evt['PI']<=70]\n",
    "en2 = evt[evt['PI']>70]\n",
    "en2 = en2[en2['PI']<=100]\n",
    "en3 = evt[evt['PI']>100]\n",
    "en3 = en3[en3['PI']<=150]\n",
    "en4 = evt[evt['PI']>150]\n",
    "en4 = en4[en4['PI']<=200]\n",
    "en5 = evt[evt['PI']>200]\n",
    "en5 = en5[en5['PI']<=300]\n",
    "en6 = evt[evt['PI']>300]\n",
    "#only one bin 3-8 keV\n",
    "if onehard: en6 = en6[en6['PI']<=800]\n",
    "#two bins 3-8 keV\n",
    "else:\n",
    "    en6 = en6[en6['PI']<=500]\n",
    "    en7 = evt[evt['PI']>500]\n",
    "    en7 = en7[en7['PI']<=800]"
   ]
  },
  {
   "cell_type": "code",
   "execution_count": 26,
   "metadata": {},
   "outputs": [],
   "source": [
    "ep3_pfs = []\n",
    "ep3_errs = []\n",
    "#repeat with space weather bg\n",
    "ep3_pfs_sw = []\n",
    "ep3_swerrs = []\n",
    "\n",
    "bands = [en1,en2,en3,en4,en5,en6]\n",
    "for i in range(6):\n",
    "    #use energy band event table and associate bg (3C50)\n",
    "    pf = both(bands[i],compd,ep3time,s_nep3pfbg[i],bins=64,plot=False,color='black',printall=False)\n",
    "    pf_sw = both(bands[i],compd,ep3time,s_ep3pfbg[i],bins=64,plot=False,color='black',printall=False)\n",
    "    pfn,pfe = pf.n,pf.s\n",
    "    pfn_sw,pfe_sw = pf_sw.n,pf_sw.s\n",
    "    ep3_pfs.append(pfn)\n",
    "    ep3_errs.append(pfe)\n",
    "    ep3_pfs_sw.append(pfn_sw)\n",
    "    ep3_swerrs.append(pfe_sw)"
   ]
  },
  {
   "cell_type": "markdown",
   "metadata": {},
   "source": [
    "# calculate PFs from 0.3-8 keV for each BG method for each epoch"
   ]
  },
  {
   "cell_type": "code",
   "execution_count": 48,
   "metadata": {},
   "outputs": [],
   "source": [
    "ep1sw = both(ep1,pd,ep1time,ep1pfbg_t,bins=64,plot=False,color='black',printall=False)\n",
    "ep1c = both(ep1,pd,ep1time,nep1pfbg_t,bins=64,plot=False,color='black',printall=False)\n",
    "ep3sw = both(ep3,compd,ep3time,ep3pfbg_t,bins=64,plot=False,color='black',printall=False)\n",
    "ep3c = both(ep3,compd,ep3time,nep3pfbg_t,bins=64,plot=False,color='black',printall=False)"
   ]
  },
  {
   "cell_type": "code",
   "execution_count": 49,
   "metadata": {},
   "outputs": [
    {
     "data": {
      "text/plain": [
       "0.3803073088604867"
      ]
     },
     "execution_count": 49,
     "metadata": {},
     "output_type": "execute_result"
    }
   ],
   "source": [
    "ep1sw.n"
   ]
  },
  {
   "cell_type": "markdown",
   "metadata": {},
   "source": [
    "# plot PFs for each epoch"
   ]
  },
  {
   "cell_type": "code",
   "execution_count": 56,
   "metadata": {},
   "outputs": [
    {
     "data": {
      "image/png": "[encoded data removed]",
      "text/plain": [
       "<Figure size 432x288 with 1 Axes>"
      ]
     },
     "metadata": {
      "needs_background": "light"
     },
     "output_type": "display_data"
    }
   ],
   "source": [
    "xs = [.5,.85,1.25,1.75,2.5,5.5]\n",
    "xerr = [.2,.15,.25,.25,.5,2.5]\n",
    "\n",
    "c50 = ep1_pfs\n",
    "c50err = ep1_errs\n",
    "plt.errorbar(xs,c50,yerr=c50err,xerr=xerr,marker='o',linestyle='none',color='black',label='3C50')\n",
    "plt.errorbar(xs,ep1_pfs_sw,yerr=ep1_swerrs,xerr=xerr,marker='x',linestyle='none',color='red',label='space weather')\n",
    "\n",
    "#can add space sweather here\n",
    "# plt.errorbar(xs,sw,yerr=swerr,xerr=xerr,marker='o',linestyle='none',color='red',label='space weather')\n",
    "\n",
    "\n",
    "plt.xlabel('Energy (keV)',fontsize=14)\n",
    "plt.ylabel('PF',fontsize=14)\n",
    "\n",
    "#plot PF for 0.3-8.0\n",
    "plt.axhspan(ep1c.n-ep1c.s,ep1c.n+ep1c.s,color='grey',alpha=.4,label='0.3-8.0 PF')\n",
    "plt.axhspan(ep1sw.n-ep1sw.s,ep1sw.n+ep1sw.s,color='red',linestyle='dashed',alpha=.4)\n",
    "# plt.title('epoch 1 3C50 ')\n",
    "plt.ylim(0.2,0.5)\n",
    "plt.legend()\n",
    "plt.savefig('LXP_69_NICER/0.3-8.0Figs/3Epoch/rmsep1pf.png',dpi=200,bbox_inches='tight')"
   ]
  },
  {
   "cell_type": "code",
   "execution_count": 54,
   "metadata": {},
   "outputs": [
    {
     "data": {
      "image/png": "[encoded data removed]",
      "text/plain": [
       "<Figure size 432x288 with 1 Axes>"
      ]
     },
     "metadata": {
      "needs_background": "light"
     },
     "output_type": "display_data"
    }
   ],
   "source": [
    "xs = [.5,.85,1.25,1.75,2.5,5.5]\n",
    "xerr = [.2,.15,.25,.25,.5,2.5]\n",
    "\n",
    "c50 = ep3_pfs\n",
    "c50err = ep3_errs\n",
    "plt.errorbar(xs,c50,yerr=c50err,xerr=xerr,marker='o',linestyle='none',color='black',label='3C50')\n",
    "plt.errorbar(xs,ep3_pfs_sw,yerr=ep3_swerrs,xerr=xerr,marker='o',linestyle='none',color='red',label='space weather')\n",
    "\n",
    "#can add space sweather here\n",
    "# plt.errorbar(xs,sw,yerr=swerr,xerr=xerr,marker='o',linestyle='none',color='red',label='space weather')\n",
    "\n",
    "\n",
    "plt.xlabel('Energy (keV)',fontsize=14)\n",
    "plt.ylabel('PF',fontsize=14)\n",
    "\n",
    "#plot PF for 0.3-8.0\n",
    "plt.axhspan(ep3c.n-ep3c.s,ep3c.n+ep3c.s,color='grey',alpha=.4,label='0.3-8.0 PF')\n",
    "plt.axhspan(ep3sw.n-ep3sw.s,ep3sw.n+ep3sw.s,color='red',linestyle='dashed',alpha=.4)\n",
    "\n",
    "plt.ylim(0.2,0.5)\n",
    "plt.legend()\n",
    "plt.savefig('LXP_69_NICER/0.3-8.0Figs/3Epoch/rmsep3pf.png',dpi=200,bbox_inches='tight')"
   ]
  },
  {
   "cell_type": "code",
   "execution_count": 57,
   "metadata": {},
   "outputs": [
    {
     "data": {
      "text/plain": [
       "0.41517263512513936+/-0.0051314868608079425"
      ]
     },
     "execution_count": 57,
     "metadata": {},
     "output_type": "execute_result"
    }
   ],
   "source": [
    "ep1c"
   ]
  },
  {
   "cell_type": "code",
   "execution_count": null,
   "metadata": {},
   "outputs": [],
   "source": []
  }
 ],
 "metadata": {
  "kernelspec": {
   "display_name": "Python 3",
   "language": "python",
   "name": "python3"
  },
  "language_info": {
   "codemirror_mode": {
    "name": "ipython",
    "version": 3
   },
   "file_extension": ".py",
   "mimetype": "text/x-python",
   "name": "python",
   "nbconvert_exporter": "python",
   "pygments_lexer": "ipython3",
   "version": "3.7.6"
  }
 },
 "nbformat": 4,
 "nbformat_minor": 4
}
