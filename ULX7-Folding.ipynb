{
 "cells": [
  {
   "cell_type": "code",
   "execution_count": 1,
   "metadata": {},
   "outputs": [],
   "source": [
    "from uncertainties import ufloat\n",
    "from uncertainties.umath import *\n",
    "import math\n",
    "import numpy as np\n",
    "import matplotlib.pyplot as plt\n",
    "import pandas as pd\n",
    "from astropy.stats import LombScargle\n",
    "from scipy import signal\n",
    "%matplotlib inline\n",
    "import warnings\n",
    "warnings.filterwarnings(\"ignore\")\n",
    "import scipy.optimize\n",
    "from lmfit.models import GaussianModel"
   ]
  },
  {
   "cell_type": "code",
   "execution_count": 2,
   "metadata": {},
   "outputs": [],
   "source": [
    "from astropy.table import Table,vstack,unique\n",
    "from astropy.io import fits\n",
    "import glob"
   ]
  },
  {
   "cell_type": "markdown",
   "metadata": {},
   "source": [
    "# To Dos\n",
    "- figure out best way to detrend\n",
    "    - why is it returning 0s/nans?\n",
    "- more S testing\n",
    "    - error to use?"
   ]
  },
  {
   "cell_type": "markdown",
   "metadata": {},
   "source": [
    "# Define Functions"
   ]
  },
  {
   "cell_type": "code",
   "execution_count": 3,
   "metadata": {},
   "outputs": [],
   "source": [
    "def sf(file,dpi=200):\n",
    "    plt.savefig(file+'.png',dpi=dpi,bbox_inches=False)"
   ]
  },
  {
   "cell_type": "code",
   "execution_count": 4,
   "metadata": {},
   "outputs": [],
   "source": [
    "def detrend(c,window=3,zeros=False):\n",
    "#     print('Smooth (window = ', window, ') and detrend data...')\n",
    "    counts = np.array(c)\n",
    "    #inds where counts are zero -- will want to change to nans (assumption that zero counts means not exposed)\n",
    "    if zeros: \n",
    "        zinds = np.where(counts==0)\n",
    "        zinds = list(zinds[0])\n",
    "        counts[zinds] = np.nan\n",
    "        print(zinds)\n",
    "    c1smooth = signal.savgol_filter(counts, window, 1)\n",
    "    c1mean = np.nanmean(counts)\n",
    "    c1det = counts-c1smooth  + c1mean\n",
    "    return c1det"
   ]
  },
  {
   "cell_type": "code",
   "execution_count": 5,
   "metadata": {},
   "outputs": [],
   "source": [
    "def periodogram(time,counts,minp,maxp,sec=True,plot=True):\n",
    "    '''Perform and plot single LS periodogram.\n",
    "    Two different return options.'''\n",
    "    fig = plt.figure(figsize=(8, 4))\n",
    "\n",
    "    ls = LombScargle(time, counts)\n",
    "    freq, power = ls.autopower(normalization='standard',\n",
    "                           minimum_frequency=1/maxp,\n",
    "                           maximum_frequency=1/minp,\n",
    "                           samples_per_peak=10)\n",
    "#     if bayes: power = np.exp(power)\n",
    "    if sec and plot: plt.plot((1/freq)/(3600*24),power,color='black')\n",
    "    elif plot: plt.plot(1/freq,power,color='black')\n",
    "    best_freq = freq[np.argmax(power)]\n",
    "    if plot:\n",
    "        plt.xlabel('Period',fontsize=14)\n",
    "        plt.ylabel('Power',fontsize=14)\n",
    "#     if more:\n",
    "#         return freq, power, 1/best_freq\n",
    "    if sec: return ('days:',(1/best_freq)/(3600*24))\n",
    "    else: return 1/best_freq"
   ]
  },
  {
   "cell_type": "code",
   "execution_count": 6,
   "metadata": {},
   "outputs": [],
   "source": [
    "def binev(evts,bins=0.1,window=3,minp=1,maxp=5):\n",
    "    '''Bin events; optional to detrend and run periodogram followed by phase-folded output.\n",
    "    Can pass in list of events to join tables\n",
    "    For now, pass in evt tables but can change to read fits files\n",
    "    Assumes day in evt file\n",
    "    bins in days\n",
    "    NOT USED IN THIS NOTEBOOK'''\n",
    "    if len(evts)>1 and len(evts)<8: \n",
    "        evt = vstack(evts)\n",
    "        evt = unique(evt,keys='time')\n",
    "    else: evt = evts\n",
    "    hist = plt.hist(evt['day'],bins=np.arange(evt['day'][0],evt['day'][-1],bins),histtype='step',color='black')        \n",
    "    plt.close()\n",
    "    evfr = pd.DataFrame(columns=['day','counts','det'])\n",
    "    evfr['day'] = hist[1][:-1]\n",
    "    evfr['counts'] = hist[0]\n",
    "    evfr = evfr[evfr['counts']!=0] #filter out in-between bins\n",
    "    det = detrend(evfr['counts'],window=window)\n",
    "    evfr['det'] = det\n",
    "    fig,ax = plt.subplots(3,1,figsize=(6,16))\n",
    "    bpd = periodogram(evfr['day'],evfr['counts'],minp=minp,maxp=maxp,sec=False)\n",
    "    bpddet = periodogram(evfr['day'],evfr['det'],minp=minp,maxp=maxp,sec=False)\n",
    "    ax[0].scatter(evfr['day'],evfr['counts'],color='darkseagreen',label='original')\n",
    "    ax[0].scatter(evfr['day'],evfr['det'],color='navy',label='detrended')\n",
    "    ax[0].legend()\n",
    "    ax[1].scatter(evfr['day']%bpd,evfr['counts'],color='darkseagreen')\n",
    "    ax[2].scatter(evfr['day']%bpddet,evfr['det'],color='navy')\n",
    "\n",
    "    return bpd,bpddet"
   ]
  },
  {
   "cell_type": "markdown",
   "metadata": {},
   "source": [
    "# Read in Event Files"
   ]
  },
  {
   "cell_type": "code",
   "execution_count": 7,
   "metadata": {},
   "outputs": [
    {
     "data": {
      "text/plain": [
       "['src_13816.fits',\n",
       " 'src_15496.fits',\n",
       " 'src_13812.fits',\n",
       " 'src_15553.fits',\n",
       " 'src_13813.fits',\n",
       " 'src_13814.fits',\n",
       " 'src_13815.fits']"
      ]
     },
     "execution_count": 7,
     "metadata": {},
     "output_type": "execute_result"
    }
   ],
   "source": [
    "evts = glob.glob('s*.fits')\n",
    "evts"
   ]
  },
  {
   "cell_type": "code",
   "execution_count": 8,
   "metadata": {},
   "outputs": [
    {
     "name": "stdout",
     "output_type": "stream",
     "text": [
      "src_13816.fits 465025372.8442148\n",
      "src_15496.fits 464434911.77284586\n",
      "src_13812.fits 463862614.391263\n",
      "src_15553.fits 466218621.51459354\n",
      "src_13813.fits 463601910.9877028\n",
      "src_13814.fits 464514703.4699503\n",
      "src_13815.fits 464776486.86331296\n"
     ]
    }
   ],
   "source": [
    "#make list of astropy event tables\n",
    "#seven elements for seven obsids\n",
    "tabs = []\n",
    "for e in evts:\n",
    "    hdu_list = fits.open(e, memmap=True)\n",
    "    t = Table(hdu_list[1].data)\n",
    "    t['day'] = t['time']/(3600*24)\n",
    "    tabs.append(t)\n",
    "    print(e,t['time'][0])"
   ]
  },
  {
   "cell_type": "code",
   "execution_count": 9,
   "metadata": {},
   "outputs": [],
   "source": [
    "def sorf(e):\n",
    "    return e['day'][0]\n",
    "#sort list of tables by start time in each\n",
    "tabs.sort(key=sorf)"
   ]
  },
  {
   "cell_type": "code",
   "execution_count": 10,
   "metadata": {},
   "outputs": [],
   "source": [
    "#make astropy table of all events (stack obsids)\n",
    "join = vstack(tabs)"
   ]
  },
  {
   "cell_type": "code",
   "execution_count": 11,
   "metadata": {},
   "outputs": [],
   "source": [
    "#make sure only unique events kept\n",
    "join = unique(join,keys='time')"
   ]
  },
  {
   "cell_type": "markdown",
   "metadata": {},
   "source": [
    "- so we want to fold a lightcurve rather than evts\n",
    "- lightcurve already has even time binning\n",
    "- so we essentially want to bin within the counts or det vs. day plot\n",
    "- we can do this with arrays by reshaping and summing along that axis"
   ]
  },
  {
   "cell_type": "markdown",
   "metadata": {},
   "source": [
    "# initial goal: phase-fold lightcurve by some period and give S"
   ]
  },
  {
   "cell_type": "code",
   "execution_count": 12,
   "metadata": {},
   "outputs": [],
   "source": [
    "#define function to make lightcurve hist using table of events\n",
    "def lc(evt,dbin):\n",
    "    '''\n",
    "    evt: table of events, including time in days, or list of tables of events\n",
    "    dbin: size of bin in days\n",
    "    TO DO: rather than list, just add obsid and do find allbins without a loop\n",
    "    non-constant bin width so need to divide by bin width for count rate\n",
    "    count rate per day so higher than original in each bin\n",
    "    '''\n",
    "    #list of event tables (see to-do)\n",
    "    if isinstance(evt,list):\n",
    "        allb = []\n",
    "        for i in range(len(evt)):\n",
    "            tbins = np.arange(tabs[i]['day'][0],tabs[i]['day'][-1],dbin)\n",
    "            #add last time in obsid to list of bins\n",
    "            #addition of small offset so that that last time count is included in bin and not between obsids\n",
    "            offset = 1e-2*dbin\n",
    "            tbins = np.concatenate([tbins,[offset+tabs[i]['day'][-1]]])\n",
    "            allb.append(tbins)\n",
    "        #make into one array rather than list of seven arrays\n",
    "        allb = np.concatenate(allb)\n",
    "        #join tables\n",
    "        join = vstack(tabs)\n",
    "        join = unique(join,keys='time')\n",
    "        h = plt.hist(join['day'],bins=allb,histtype='step',color='black')\n",
    "        #immediately divide by bin width to avoid confusion down the line\n",
    "        bin_wid = h[1][1:]-h[1][:-1] #width is end of bin - beginning of bin\n",
    "        #calculate count rate using counts and bin width\n",
    "        cr = h[0]/bin_wid\n",
    "        #CR PER DAY SO INCREASES FROM ORIGINAL\n",
    "        newh = (cr,h[1])\n",
    "        #for now, outputs original histogram but returns cr\n",
    "        return newh\n",
    "    else:\n",
    "        h = plt.hist(evt['day'],bins=np.arange(evt['day'][0],evt['day'][-1],dbin),histtype='step',color='black')\n",
    "    return h"
   ]
  },
  {
   "cell_type": "code",
   "execution_count": 13,
   "metadata": {},
   "outputs": [
    {
     "data": {
      "image/png": "[encoded data removed]",
      "text/plain": [
       "<Figure size 432x288 with 1 Axes>"
      ]
     },
     "metadata": {
      "needs_background": "light"
     },
     "output_type": "display_data"
    }
   ],
   "source": [
    "alhist = lc(tabs,0.1)"
   ]
  },
  {
   "cell_type": "code",
   "execution_count": 14,
   "metadata": {},
   "outputs": [],
   "source": [
    "bin_wid = alhist[1][1:]-alhist[1][:-1]"
   ]
  },
  {
   "cell_type": "code",
   "execution_count": 15,
   "metadata": {},
   "outputs": [
    {
     "data": {
      "text/plain": [
       "array([4969.99999998, 4958.93505907,    0.        , 4149.99999998,\n",
       "       3449.99999999, 3369.99999999, 3849.99999999, 4129.99999998,\n",
       "       3929.99999999, 3719.99999999])"
      ]
     },
     "execution_count": 15,
     "metadata": {},
     "output_type": "execute_result"
    }
   ],
   "source": [
    "alhist[0][20:30]"
   ]
  },
  {
   "cell_type": "code",
   "execution_count": 16,
   "metadata": {},
   "outputs": [
    {
     "data": {
      "text/plain": [
       "array([0.1       , 0.00201656, 0.91538394, 0.1       , 0.1       ,\n",
       "       0.1       , 0.1       , 0.1       , 0.1       , 0.1       ])"
      ]
     },
     "execution_count": 16,
     "metadata": {},
     "output_type": "execute_result"
    }
   ],
   "source": [
    "bin_wid[20:30] #showing how bin width changes between obsids"
   ]
  },
  {
   "cell_type": "markdown",
   "metadata": {},
   "source": [
    "- see weirdly high point below\n",
    "- really small bin and division of counts by bin width gives high num for count rate\n",
    "- but probably high error so should get rid of it altogether"
   ]
  },
  {
   "cell_type": "code",
   "execution_count": 17,
   "metadata": {},
   "outputs": [
    {
     "data": {
      "text/plain": [
       "array([5289.99999998, 5179.99999998, 5139.99999998, 5089.99999998,\n",
       "       5109.99999998, 5279.99999998, 5249.99999998, 5139.99999998,\n",
       "       4909.99999998, 4859.99999998])"
      ]
     },
     "execution_count": 17,
     "metadata": {},
     "output_type": "execute_result"
    }
   ],
   "source": [
    "#higher rates since bin width less than a day\n",
    "#these are count rates per day\n",
    "alhist[0][:10]"
   ]
  },
  {
   "cell_type": "code",
   "execution_count": 18,
   "metadata": {},
   "outputs": [
    {
     "data": {
      "image/png": "[encoded data removed]",
      "text/plain": [
       "<Figure size 432x288 with 1 Axes>"
      ]
     },
     "metadata": {
      "needs_background": "light"
     },
     "output_type": "display_data"
    }
   ],
   "source": [
    "jhist = lc(join,0.1)"
   ]
  },
  {
   "cell_type": "code",
   "execution_count": 19,
   "metadata": {},
   "outputs": [
    {
     "data": {
      "text/plain": [
       "Text(0.5, 0, 'day')"
      ]
     },
     "execution_count": 19,
     "metadata": {},
     "output_type": "execute_result"
    },
    {
     "data": {
      "image/png": "[encoded data removed]",
      "text/plain": [
       "<Figure size 432x288 with 1 Axes>"
      ]
     },
     "metadata": {
      "needs_background": "light"
     },
     "output_type": "display_data"
    }
   ],
   "source": [
    "plt.scatter(alhist[1][:-1],alhist[0],color='maroon',alpha=.4,label='new binning method')\n",
    "plt.ylabel('count rate')\n",
    "plt.xlabel('day')\n",
    "# plt.axhline(0)\n",
    "#can filter out 0s and the high point later"
   ]
  },
  {
   "cell_type": "code",
   "execution_count": 20,
   "metadata": {},
   "outputs": [
    {
     "name": "stdout",
     "output_type": "stream",
     "text": [
      "5367.863875215975\n",
      "5370.626650595482\n",
      "5375.884382788588\n",
      "5378.552788995798\n",
      "5380.14073770903\n",
      "5383.0913437821355\n",
      "5396.4750764006985\n"
     ]
    }
   ],
   "source": [
    "for t in range(7):\n",
    "    print(tabs[t]['day'][-1])"
   ]
  },
  {
   "cell_type": "code",
   "execution_count": 21,
   "metadata": {},
   "outputs": [
    {
     "data": {
      "text/plain": [
       "array([0., 0., 0., 0., 0., 0.])"
      ]
     },
     "execution_count": 21,
     "metadata": {},
     "output_type": "execute_result"
    }
   ],
   "source": [
    "#without offset, get nonzero counts between obsids\n",
    "#leave this here for check\n",
    "alhist[0][alhist[0]<10]"
   ]
  },
  {
   "cell_type": "code",
   "execution_count": 22,
   "metadata": {},
   "outputs": [
    {
     "name": "stdout",
     "output_type": "stream",
     "text": [
      "[[5367.86487522 5370.6276506  5375.88538279 5378.553789   5380.14173771\n",
      "  5383.09234378]]\n",
      "[[5368.78025916 5375.40407144 5376.32758646 5379.35748684 5382.23811162\n",
      "  5396.04886012]]\n"
     ]
    }
   ],
   "source": [
    "#bins where counts less than ten\n",
    "binz = np.array(np.where(alhist[0]<10))\n",
    "print(alhist[1][binz])\n",
    "print(alhist[1][binz+1])\n",
    "#so those low counts within the times between obsids for some reason\n",
    "#because end of a bin is exclusive"
   ]
  },
  {
   "cell_type": "code",
   "execution_count": 23,
   "metadata": {},
   "outputs": [
    {
     "data": {
      "text/plain": [
       "<matplotlib.lines.Line2D at 0x1a1dc03950>"
      ]
     },
     "execution_count": 23,
     "metadata": {},
     "output_type": "execute_result"
    },
    {
     "data": {
      "image/png": "[encoded data removed]",
      "text/plain": [
       "<Figure size 1152x216 with 1 Axes>"
      ]
     },
     "metadata": {
      "needs_background": "light"
     },
     "output_type": "display_data"
    }
   ],
   "source": [
    "#let's compare\n",
    "#see markdown above about high point at end of first obsid: should show large error or remove and explain\n",
    "\n",
    "plt.figure(figsize=(16,3))\n",
    "plt.scatter(jhist[1][:-1],jhist[0],color='blue',alpha=.4,label='constant binning')\n",
    "# plt.plot(jhist[1][:-1],jhist[0],color='blue',alpha=.2)\n",
    "\n",
    "#divide by ten to compare\n",
    "#successfully got rid of weird points at end of obsids\n",
    "plt.scatter(alhist[1][:-1],alhist[0]/10,color='maroon',alpha=.4,label='new binning method')\n",
    "# plt.plot(alhist[1][:-1],alhist[0]/10,color='maroon',alpha=.2)\n",
    "plt.legend()\n",
    "plt.axvline(5366.93,color='grey',alpha=.2)\n",
    "plt.axvline(5368.93,color='grey',alpha=.2)\n",
    "plt.axvline(5370.93,color='grey',alpha=.2)\n",
    "plt.axvline(5372.93,color='grey',alpha=.2)\n",
    "plt.axvline(5374.93,color='grey',alpha=.2)\n",
    "plt.axvline(5376.93,color='grey',alpha=.2)\n",
    "plt.axvline(5378.93,color='grey',alpha=.2)\n",
    "# sf('newoldbinlc')"
   ]
  },
  {
   "cell_type": "code",
   "execution_count": 24,
   "metadata": {},
   "outputs": [],
   "source": [
    "#one function creating lightcurve and making DataFrame, including detrended column\n",
    "def lcfr(evt,dbin,window=3,det=False,nan=False):\n",
    "    h = lc(evt,dbin)\n",
    "    plt.close()\n",
    "    fr = pd.DataFrame(columns=['day','counts','det','bin'])\n",
    "    #can update to get better time estimate (central time rather than bin start time)\n",
    "    fr['day'] = h[1][:-1]\n",
    "    fr['counts'] = h[0]\n",
    "    #bin width (exposure time) in bin column\n",
    "    fr['bin'] = (h[1][1:]-h[1][:-1])\n",
    "    #find places with different bin widths and replace bin\n",
    "    btwn = np.where(fr['bin']>(2*dbin))\n",
    "    btwn = tuple(btwn[0])\n",
    "    if nan: fr['bin'][btwn] = np.nan\n",
    "    else: fr['bin'][btwn] = 0\n",
    "    if det: \n",
    "        detr = detrend(fr['counts'],window=window,zeros=True)\n",
    "        #for now, leaving zero count rates as nans, but change here if something messed up\n",
    "#         detr[np.isnan(detr)==True] = 0\n",
    "        fr['det'] = detr\n",
    "        #reset nan values to zero in detrended \n",
    "        fr['det'][np.isnan(fr['det'])==True] = 0\n",
    "    return fr"
   ]
  },
  {
   "cell_type": "markdown",
   "metadata": {},
   "source": [
    "#### detrended LC below \n",
    "notice that eclipses (grey lines spaced by two days) are at the lowest points!\n",
    "\n",
    "of course this is dependent on binning and detrending"
   ]
  },
  {
   "cell_type": "code",
   "execution_count": 25,
   "metadata": {},
   "outputs": [
    {
     "name": "stdout",
     "output_type": "stream",
     "text": [
      "[22, 42, 48, 72, 81, 91]\n"
     ]
    },
    {
     "data": {
      "text/plain": [
       "Text(0.5, 0, 'Days')"
      ]
     },
     "execution_count": 25,
     "metadata": {},
     "output_type": "execute_result"
    },
    {
     "data": {
      "image/png": "[encoded data removed]",
      "text/plain": [
       "<Figure size 864x288 with 1 Axes>"
      ]
     },
     "metadata": {
      "needs_background": "light"
     },
     "output_type": "display_data"
    }
   ],
   "source": [
    "#detrended LC \n",
    "frt2 = lcfr(tabs,0.1,det=True,window=5)\n",
    "#for lightcurve, can make counts of 0 back into nans\n",
    "frt2['det'][frt2['det']==0] = np.nan\n",
    "#need to update detrending once again\n",
    "plt.figure(figsize=(12,4))\n",
    "plt.scatter(frt2['day'],frt2['det'],color='black')\n",
    "plt.plot(frt2['day'],frt2['det'],color='black',alpha=.2)\n",
    "\n",
    "plt.axvline(5366.93,color='grey',alpha=.4,label='eclipse')\n",
    "plt.axvline(5368.93,color='grey',alpha=.4)\n",
    "plt.axvline(5370.93,color='grey',alpha=.4)\n",
    "plt.axvline(5372.93,color='grey',alpha=.4)\n",
    "plt.axvline(5374.93,color='grey',alpha=.4)\n",
    "plt.axvline(5376.93,color='grey',alpha=.4)\n",
    "plt.axvline(5378.93,color='grey',alpha=.4)\n",
    "for i in range(7):\n",
    "    plt.axvline(tabs[i]['day'][0],color='red',alpha=.4,linestyle='dotted')\n",
    "plt.ylabel('Count Rate')\n",
    "plt.xlabel('Days')\n",
    "# sf('detLC0.1_win5')"
   ]
  },
  {
   "cell_type": "markdown",
   "metadata": {},
   "source": [
    "## random points where det is 0??"
   ]
  },
  {
   "cell_type": "code",
   "execution_count": 26,
   "metadata": {},
   "outputs": [
    {
     "name": "stdout",
     "output_type": "stream",
     "text": [
      "[22, 42, 48, 72, 81, 91]\n"
     ]
    },
    {
     "data": {
      "text/html": [
       "<div>\n",
       "<style scoped>\n",
       "    .dataframe tbody tr th:only-of-type {\n",
       "        vertical-align: middle;\n",
       "    }\n",
       "\n",
       "    .dataframe tbody tr th {\n",
       "        vertical-align: top;\n",
       "    }\n",
       "\n",
       "    .dataframe thead th {\n",
       "        text-align: right;\n",
       "    }\n",
       "</style>\n",
       "<table border=\"1\" class=\"dataframe\">\n",
       "  <thead>\n",
       "    <tr style=\"text-align: right;\">\n",
       "      <th></th>\n",
       "      <th>day</th>\n",
       "      <th>counts</th>\n",
       "      <th>det</th>\n",
       "      <th>bin</th>\n",
       "    </tr>\n",
       "  </thead>\n",
       "  <tbody>\n",
       "    <tr>\n",
       "      <th>20</th>\n",
       "      <td>5367.762859</td>\n",
       "      <td>4970.000000</td>\n",
       "      <td>3326.986859</td>\n",
       "      <td>0.100000</td>\n",
       "    </tr>\n",
       "    <tr>\n",
       "      <th>21</th>\n",
       "      <td>5367.862859</td>\n",
       "      <td>4958.935059</td>\n",
       "      <td>0.000000</td>\n",
       "      <td>0.002017</td>\n",
       "    </tr>\n",
       "    <tr>\n",
       "      <th>22</th>\n",
       "      <td>5367.864875</td>\n",
       "      <td>0.000000</td>\n",
       "      <td>0.000000</td>\n",
       "      <td>0.000000</td>\n",
       "    </tr>\n",
       "    <tr>\n",
       "      <th>23</th>\n",
       "      <td>5368.780259</td>\n",
       "      <td>4150.000000</td>\n",
       "      <td>0.000000</td>\n",
       "      <td>0.100000</td>\n",
       "    </tr>\n",
       "    <tr>\n",
       "      <th>24</th>\n",
       "      <td>5368.880259</td>\n",
       "      <td>3450.000000</td>\n",
       "      <td>3156.631879</td>\n",
       "      <td>0.100000</td>\n",
       "    </tr>\n",
       "    <tr>\n",
       "      <th>25</th>\n",
       "      <td>5368.980259</td>\n",
       "      <td>3370.000000</td>\n",
       "      <td>3176.631879</td>\n",
       "      <td>0.100000</td>\n",
       "    </tr>\n",
       "    <tr>\n",
       "      <th>26</th>\n",
       "      <td>5369.080259</td>\n",
       "      <td>3850.000000</td>\n",
       "      <td>3429.965213</td>\n",
       "      <td>0.100000</td>\n",
       "    </tr>\n",
       "    <tr>\n",
       "      <th>27</th>\n",
       "      <td>5369.180259</td>\n",
       "      <td>4130.000000</td>\n",
       "      <td>3523.298546</td>\n",
       "      <td>0.100000</td>\n",
       "    </tr>\n",
       "    <tr>\n",
       "      <th>28</th>\n",
       "      <td>5369.280259</td>\n",
       "      <td>3930.000000</td>\n",
       "      <td>3366.631879</td>\n",
       "      <td>0.100000</td>\n",
       "    </tr>\n",
       "    <tr>\n",
       "      <th>29</th>\n",
       "      <td>5369.380259</td>\n",
       "      <td>3720.000000</td>\n",
       "      <td>3189.965213</td>\n",
       "      <td>0.100000</td>\n",
       "    </tr>\n",
       "  </tbody>\n",
       "</table>\n",
       "</div>"
      ],
      "text/plain": [
       "            day       counts          det       bin\n",
       "20  5367.762859  4970.000000  3326.986859  0.100000\n",
       "21  5367.862859  4958.935059     0.000000  0.002017\n",
       "22  5367.864875     0.000000     0.000000  0.000000\n",
       "23  5368.780259  4150.000000     0.000000  0.100000\n",
       "24  5368.880259  3450.000000  3156.631879  0.100000\n",
       "25  5368.980259  3370.000000  3176.631879  0.100000\n",
       "26  5369.080259  3850.000000  3429.965213  0.100000\n",
       "27  5369.180259  4130.000000  3523.298546  0.100000\n",
       "28  5369.280259  3930.000000  3366.631879  0.100000\n",
       "29  5369.380259  3720.000000  3189.965213  0.100000"
      ]
     },
     "execution_count": 26,
     "metadata": {},
     "output_type": "execute_result"
    }
   ],
   "source": [
    "#without switching to nans\n",
    "#why are there random points where det is at 0???\n",
    "frt3 = lcfr(tabs,0.1,det=True,window=3)\n",
    "frt3[20:30]"
   ]
  },
  {
   "cell_type": "code",
   "execution_count": 27,
   "metadata": {},
   "outputs": [
    {
     "name": "stdout",
     "output_type": "stream",
     "text": [
      "[22, 23, 24, 25, 26, 27, 28, 29, 49, 50, 51, 52, 53, 54, 55, 56, 57, 58, 59, 60, 61, 62, 63, 64, 65, 66, 67, 68, 69, 70, 71, 72, 73, 74, 75, 76, 77, 78, 79, 80, 81, 82, 83, 84, 85, 86, 87, 88, 89, 90, 91, 92, 93, 94, 95, 102, 103, 104, 128, 129, 130, 131, 132, 133, 134, 144, 145, 146, 147, 148, 149, 150, 151, 152, 153, 154, 155, 156, 157, 158, 159, 160, 161, 162, 163, 174, 175, 176, 177, 178, 179, 180, 181, 182, 183, 184, 185, 186, 187, 188, 189, 190, 191, 192, 193, 194, 195, 196, 197, 198, 199, 200, 201, 202, 203, 204, 205, 206, 207, 208, 209, 210, 211, 212, 213, 214, 215, 216, 217, 218, 219, 220, 221, 222, 223, 224, 225, 226, 227, 228, 229, 230, 231, 232, 233, 234, 235, 236, 237, 238, 239, 240, 241, 242, 243, 244, 245, 246, 247, 248, 249, 250, 251, 252, 253, 254, 255, 256, 257, 258, 259, 260, 261, 262, 263, 264, 265, 266, 267, 268, 269, 270, 271, 272, 273, 274, 275, 276, 277, 278, 279, 280, 281, 282, 283, 284, 285, 286, 287, 288, 289, 290, 291, 292, 293, 294, 295, 296, 297, 298, 299, 300, 301]\n"
     ]
    },
    {
     "data": {
      "text/plain": [
       "<matplotlib.collections.PathCollection at 0x1a1de64810>"
      ]
     },
     "execution_count": 27,
     "metadata": {},
     "output_type": "execute_result"
    },
    {
     "data": {
      "image/png": "[encoded data removed]",
      "text/plain": [
       "<Figure size 864x288 with 1 Axes>"
      ]
     },
     "metadata": {
      "needs_background": "light"
     },
     "output_type": "display_data"
    }
   ],
   "source": [
    "#see that not effective with old binning that is incorrect between obsids\n",
    "frt = lcfr(join,0.1,det=True,window=3)\n",
    "plt.figure(figsize=(12,4))\n",
    "plt.scatter(frt['day'],frt['det'],color='black')\n",
    "plt.plot(frt['day'],frt['det'],color='black',alpha=.2)\n",
    "\n",
    "plt.axvline(5366.93,color='grey',alpha=.2)\n",
    "plt.axvline(5368.93,color='grey',alpha=.2)\n",
    "plt.axvline(5370.93,color='grey',alpha=.2)\n",
    "plt.axvline(5372.93,color='grey',alpha=.2)\n",
    "plt.axvline(5374.93,color='grey',alpha=.2)\n",
    "plt.axvline(5376.93,color='grey',alpha=.2)\n",
    "plt.axvline(5378.93,color='grey',alpha=.2)\n",
    "plt.ylabel('Count Rate')\n",
    "plt.xlabel('Days')\n",
    "plt.scatter(frt['day'],frt['det'])"
   ]
  },
  {
   "cell_type": "code",
   "execution_count": 28,
   "metadata": {},
   "outputs": [],
   "source": [
    "#function to take dataframe of lightcurve, phase-fold, and calculate S\n",
    "def fold(evt,dbin=0.1,window=5,pd=2,pbins=16,color='black',detf=False,retph=False,linestyle='solid'):\n",
    "    '''\n",
    "    evt: table of events, including day\n",
    "    dbin: bin size for light curve, in days\n",
    "    window: detrending window\n",
    "    pd: period for phase-folding\n",
    "    pbins: number of phase bins\n",
    "    detf: boolean; if True: use detrended data in phase-fold\n",
    "    retph: True returns histogram result but no plot\n",
    "    '''\n",
    "    #get dataframe with day, counts, det (detrended counts)\n",
    "    fr = lcfr(evt,dbin,window=window,det=detf)\n",
    "    fr['phase'] = fr['day']%pd\n",
    "    #not working with nans in hist so replace with zeros\n",
    "    if detf: \n",
    "        #remove rows nans?\n",
    "#         fr['det'][np.isnan(fr['det'])==True] = 0\n",
    "#         fr['bin'][fr['det']==0] = 0\n",
    "\n",
    "        #not sure why there are detrended nans, but dropping\n",
    "        nd = np.where(np.isnan(fr['det'])==True)\n",
    "        nd2 =  np.where(fr['det']==0)\n",
    "        nd = list(nd[0])\n",
    "        nd2 = list(nd2[0])\n",
    "        nod = nd+nd2\n",
    "#         print(nod)\n",
    "        fr = fr.drop(index=nod)\n",
    "    #remove rows where counts is 0\n",
    "    #indices where zero counts \n",
    "    zc = np.where(fr['counts']==0)\n",
    "    zc = list(zc[0])\n",
    "#     print(zc)\n",
    "    fr = fr.drop(index=zc)\n",
    "    #sort DataFrame by phase\n",
    "    fr = fr.sort_values(by='phase',ascending=True)\n",
    "    #phase hist\n",
    "    #again need to divide by exposure within bin\n",
    "    if detf: \n",
    "#         exp = plt.hist(fr['phase']/2,bins=pbins,weights=fr['bin'],histtype='step',color='red')\n",
    "#         plt.close()\n",
    "#         c = plt.hist(fr['phase']/2,bins=pbins,weights=fr['det'],histtype='step',color='red')\n",
    "#         plt.close()\n",
    "#         #false number but should be proportionally correct: detrended count rate divided by bin width\n",
    "#         ph = plt.hist(c[1][:-1],bins=c[1],weights=c[0]/exp[0],histtype='step',color=color,linestyle=linestyle)\n",
    "        #false number but should be proportionally correct: detrended count rate divided by bin width\n",
    "        ph = plt.hist(fr['phase']/pd,bins=pbins,weights=fr['det'],histtype='step',color=color,linestyle=linestyle)\n",
    "        plt.xlim(0,1)\n",
    "    else: \n",
    "        #histogram for exposure (total bin width in phase bin) and histogram for count rate (total count rate) in phase bin\n",
    "        #then divide binned cr by binned bin width (problem is that values already in count rate; so can fix but will change LC)\n",
    "#         exp = plt.hist(fr['phase']/2,bins=pbins,weights=fr['bin'],histtype='step',color='red')\n",
    "#         plt.close()\n",
    "#         c = plt.hist(fr['phase']/2,bins=pbins,weights=fr['counts'],histtype='step',color='red')\n",
    "#         plt.close()\n",
    "#         #false number but should be proportionally correct: detrended count rate divided by bin width\n",
    "#         ph = plt.hist(c[1][:-1],bins=c[1],weights=c[0]/exp[0],histtype='step',color=color,linestyle=linestyle)\n",
    "        ph = plt.hist(fr['phase']/pd,bins=pbins,weights=fr['counts'],histtype='step',color=color,linestyle=linestyle)\n",
    "        plt.xlim(0,1)\n",
    "    if retph: \n",
    "        plt.close()\n",
    "        return fr,ph\n",
    "    else:\n",
    "        plt.xlabel('Phase')\n",
    "        #if representative number needed, only divide for count rates once\n",
    "        #right now done twice for the LC, but if just hists used, can wait till this function to do so\n",
    "        plt.ylabel('Count Rate')\n",
    "        return fr,ph"
   ]
  },
  {
   "cell_type": "code",
   "execution_count": 29,
   "metadata": {},
   "outputs": [
    {
     "data": {
      "image/png": "[encoded data removed]",
      "text/plain": [
       "<Figure size 432x288 with 1 Axes>"
      ]
     },
     "metadata": {
      "needs_background": "light"
     },
     "output_type": "display_data"
    }
   ],
   "source": [
    "#original \n",
    "tes = fold(tabs,dbin=0.1,pd=2,pbins=10)"
   ]
  },
  {
   "cell_type": "code",
   "execution_count": 30,
   "metadata": {},
   "outputs": [
    {
     "data": {
      "text/html": [
       "<div>\n",
       "<style scoped>\n",
       "    .dataframe tbody tr th:only-of-type {\n",
       "        vertical-align: middle;\n",
       "    }\n",
       "\n",
       "    .dataframe tbody tr th {\n",
       "        vertical-align: top;\n",
       "    }\n",
       "\n",
       "    .dataframe thead th {\n",
       "        text-align: right;\n",
       "    }\n",
       "</style>\n",
       "<table border=\"1\" class=\"dataframe\">\n",
       "  <thead>\n",
       "    <tr style=\"text-align: right;\">\n",
       "      <th></th>\n",
       "      <th>day</th>\n",
       "      <th>counts</th>\n",
       "      <th>det</th>\n",
       "      <th>bin</th>\n",
       "      <th>phase</th>\n",
       "    </tr>\n",
       "  </thead>\n",
       "  <tbody>\n",
       "    <tr>\n",
       "      <th>41</th>\n",
       "      <td>5370.580259</td>\n",
       "      <td>4199.070785</td>\n",
       "      <td>NaN</td>\n",
       "      <td>0.047391</td>\n",
       "      <td>0.580259</td>\n",
       "    </tr>\n",
       "    <tr>\n",
       "      <th>52</th>\n",
       "      <td>5376.627586</td>\n",
       "      <td>3700.000000</td>\n",
       "      <td>NaN</td>\n",
       "      <td>0.100000</td>\n",
       "      <td>0.627586</td>\n",
       "    </tr>\n",
       "    <tr>\n",
       "      <th>86</th>\n",
       "      <td>5382.638112</td>\n",
       "      <td>570.000000</td>\n",
       "      <td>NaN</td>\n",
       "      <td>0.100000</td>\n",
       "      <td>0.638112</td>\n",
       "    </tr>\n",
       "    <tr>\n",
       "      <th>9</th>\n",
       "      <td>5366.662859</td>\n",
       "      <td>4860.000000</td>\n",
       "      <td>NaN</td>\n",
       "      <td>0.100000</td>\n",
       "      <td>0.662859</td>\n",
       "    </tr>\n",
       "    <tr>\n",
       "      <th>53</th>\n",
       "      <td>5376.727586</td>\n",
       "      <td>3590.000000</td>\n",
       "      <td>NaN</td>\n",
       "      <td>0.100000</td>\n",
       "      <td>0.727586</td>\n",
       "    </tr>\n",
       "    <tr>\n",
       "      <th>87</th>\n",
       "      <td>5382.738112</td>\n",
       "      <td>450.000000</td>\n",
       "      <td>NaN</td>\n",
       "      <td>0.100000</td>\n",
       "      <td>0.738112</td>\n",
       "    </tr>\n",
       "    <tr>\n",
       "      <th>10</th>\n",
       "      <td>5366.762859</td>\n",
       "      <td>5100.000000</td>\n",
       "      <td>NaN</td>\n",
       "      <td>0.100000</td>\n",
       "      <td>0.762859</td>\n",
       "    </tr>\n",
       "    <tr>\n",
       "      <th>23</th>\n",
       "      <td>5368.780259</td>\n",
       "      <td>4150.000000</td>\n",
       "      <td>NaN</td>\n",
       "      <td>0.100000</td>\n",
       "      <td>0.780259</td>\n",
       "    </tr>\n",
       "    <tr>\n",
       "      <th>54</th>\n",
       "      <td>5376.827586</td>\n",
       "      <td>3040.000000</td>\n",
       "      <td>NaN</td>\n",
       "      <td>0.100000</td>\n",
       "      <td>0.827586</td>\n",
       "    </tr>\n",
       "    <tr>\n",
       "      <th>88</th>\n",
       "      <td>5382.838112</td>\n",
       "      <td>250.000000</td>\n",
       "      <td>NaN</td>\n",
       "      <td>0.100000</td>\n",
       "      <td>0.838112</td>\n",
       "    </tr>\n",
       "  </tbody>\n",
       "</table>\n",
       "</div>"
      ],
      "text/plain": [
       "            day       counts  det       bin     phase\n",
       "41  5370.580259  4199.070785  NaN  0.047391  0.580259\n",
       "52  5376.627586  3700.000000  NaN  0.100000  0.627586\n",
       "86  5382.638112   570.000000  NaN  0.100000  0.638112\n",
       "9   5366.662859  4860.000000  NaN  0.100000  0.662859\n",
       "53  5376.727586  3590.000000  NaN  0.100000  0.727586\n",
       "87  5382.738112   450.000000  NaN  0.100000  0.738112\n",
       "10  5366.762859  5100.000000  NaN  0.100000  0.762859\n",
       "23  5368.780259  4150.000000  NaN  0.100000  0.780259\n",
       "54  5376.827586  3040.000000  NaN  0.100000  0.827586\n",
       "88  5382.838112   250.000000  NaN  0.100000  0.838112"
      ]
     },
     "execution_count": 30,
     "metadata": {},
     "output_type": "execute_result"
    }
   ],
   "source": [
    "tes[0][30:40] #bins given zero width when between obsids; also have zero counts"
   ]
  },
  {
   "cell_type": "code",
   "execution_count": 31,
   "metadata": {},
   "outputs": [
    {
     "data": {
      "text/plain": [
       "91"
      ]
     },
     "execution_count": 31,
     "metadata": {},
     "output_type": "execute_result"
    }
   ],
   "source": [
    "len(tes[0]) #not necessary but dropped six intervals between obsids"
   ]
  },
  {
   "cell_type": "code",
   "execution_count": 32,
   "metadata": {},
   "outputs": [
    {
     "name": "stdout",
     "output_type": "stream",
     "text": [
      "[11, 22, 26, 39, 44, 50]\n"
     ]
    },
    {
     "data": {
      "image/png": "[encoded data removed]",
      "text/plain": [
       "<Figure size 432x288 with 1 Axes>"
      ]
     },
     "metadata": {
      "needs_background": "light"
     },
     "output_type": "display_data"
    }
   ],
   "source": [
    "#detrended -- can't trust right now\n",
    "tesdet = fold(tabs,pd=2,dbin=0.2,window=3,pbins=10,detf=True)"
   ]
  },
  {
   "cell_type": "code",
   "execution_count": 33,
   "metadata": {},
   "outputs": [
    {
     "data": {
      "text/plain": [
       "36"
      ]
     },
     "execution_count": 33,
     "metadata": {},
     "output_type": "execute_result"
    }
   ],
   "source": [
    "len(tesdet[0])\n",
    "#drops 30 points b/c they're zero or nans\n",
    "#need to figure out why they're nans"
   ]
  },
  {
   "cell_type": "code",
   "execution_count": 34,
   "metadata": {},
   "outputs": [
    {
     "data": {
      "image/png": "[encoded data removed]",
      "text/plain": [
       "<Figure size 432x288 with 1 Axes>"
      ]
     },
     "metadata": {
      "needs_background": "light"
     },
     "output_type": "display_data"
    }
   ],
   "source": [
    "#original\n",
    "tes = fold(tabs,pd=2,pbins=20,color='red',linestyle='dotted')"
   ]
  },
  {
   "cell_type": "code",
   "execution_count": 35,
   "metadata": {},
   "outputs": [
    {
     "data": {
      "image/png": "[encoded data removed]",
      "text/plain": [
       "<Figure size 432x288 with 1 Axes>"
      ]
     },
     "metadata": {
      "needs_background": "light"
     },
     "output_type": "display_data"
    }
   ],
   "source": [
    "#using original event data, but not best binning and count rates\n",
    "th = plt.hist(join['day']%2,bins=19)"
   ]
  },
  {
   "cell_type": "markdown",
   "metadata": {},
   "source": [
    "### look at individual obsids"
   ]
  },
  {
   "cell_type": "code",
   "execution_count": 36,
   "metadata": {},
   "outputs": [],
   "source": [
    "dbin=0.1 #can test out different binnings here\n",
    "pbin = 10\n",
    "tes0,ph0 = fold(tabs[0],pd=2,pbins=pbin,retph=True,dbin=dbin)\n",
    "tes1,ph1 = fold(tabs[1],pd=2,pbins=pbin,retph=True,dbin=dbin)\n",
    "tes2,ph2 = fold(tabs[2],pd=2,pbins=pbin,retph=True,dbin=dbin)\n",
    "tes3,ph3 = fold(tabs[3],pd=2,pbins=pbin,retph=True,dbin=dbin)\n",
    "tes4,ph4 = fold(tabs[4],pd=2,pbins=pbin,retph=True,dbin=dbin)\n",
    "tes5,ph5 = fold(tabs[5],pd=2,pbins=pbin,retph=True,dbin=dbin)\n",
    "tes6,ph6 = fold(tabs[6],pd=2,pbins=pbin,retph=True,dbin=dbin)\n",
    "phs = [ph0,ph1,ph2,ph3,ph4,ph5,ph6]"
   ]
  },
  {
   "cell_type": "code",
   "execution_count": 37,
   "metadata": {},
   "outputs": [
    {
     "data": {
      "image/png": "[encoded data removed]",
      "text/plain": [
       "<Figure size 1152x144 with 7 Axes>"
      ]
     },
     "metadata": {
      "needs_background": "light"
     },
     "output_type": "display_data"
    }
   ],
   "source": [
    "#show histograms with original counts\n",
    "#only three show eclipses\n",
    "fig,ax = plt.subplots(1,7,figsize=(16,2),sharey=True)\n",
    "for p in range(7):\n",
    "    ax[p].hist(phs[p][1][:-1],bins=phs[p][1],weights=phs[p][0],histtype='step',color='black')    "
   ]
  },
  {
   "cell_type": "markdown",
   "metadata": {},
   "source": [
    "# Start Calculating Epoch-Folding Statistic\n",
    "- for now, not that effective in differentiating between periods\n",
    "- not sure of what to use for error, which will certianly affect it"
   ]
  },
  {
   "cell_type": "code",
   "execution_count": 38,
   "metadata": {},
   "outputs": [],
   "source": [
    "#compute S for range of periods\n",
    "def ztest(evt,pds,dbin=0.1,window=3,pbins=10,color='black',detf=False,retph=True,\n",
    "         plot=False,subs=(1,8),figsize=(16,3)):\n",
    "    '''Uses fold function for range of periods and computes S for each\n",
    "    for now can only plot one axis of subplots -- just do when low num of tests'''\n",
    "    slist = []\n",
    "    i = 0\n",
    "#     if plot:\n",
    "#         fig,ax=plt.subplots(subs[0],subs[1],figsize=figsize,sharey=True)\n",
    "#plotting not working, maybe b/c of close() in other functions called\n",
    "    phlist = []\n",
    "    for p in pds:\n",
    "        #to do: more efficient to not re-fold evt every time\n",
    "        fr,ph = fold(evt,pd=p,dbin=dbin,pbins=pbins,window=window,retph=retph,detf=detf)\n",
    "#         if plot and i<len(ax): ax[i].hist(ph[1][:-1],bins=ph[1],weights=ph[0],histtype='step',color='black')                      \n",
    "#         s = np.sum((ph[1]-np.mean(ph[0]))**2/np.std(ph[0])**2)\n",
    "        #clarify what error to use; for now: what stingray uses when no error passed in; maybe should be sqrt of counts\n",
    "        #but seems like error should be the same for each (not sigma with i subscript)\n",
    "        mean = np.mean(ph[0])\n",
    "        err = np.sqrt(mean)\n",
    "        s = np.sum(((ph[0]-mean)**2)/err**2)\n",
    "\n",
    "        phlist.append(ph)\n",
    "        slist.append(s)\n",
    "        if len(pds)<5:print('period:',p,'s:',s)\n",
    "        i+=1\n",
    "    #with many periods, just plot all hists on one plot\n",
    "    if plot:\n",
    "        fig,ax = plt.subplots(1,len(phlist),figsize=(2*len(phlist),3),sharey=True)\n",
    "        i = 0\n",
    "        for ph in phlist:\n",
    "            ax[i].hist(ph[1][:-1],bins=ph[1],weights=ph[0],histtype='step',color='black')\n",
    "            ax[i].text(0.25,4000,str(int(slist[i])))\n",
    "#             ax[i].text(0.25,4000,str(pds[i]))\n",
    "            i+=1\n",
    "    p = np.array(pds)\n",
    "    slist = np.array(slist)\n",
    "    print(pds[np.where(slist==np.max(slist))[0][0]])\n",
    "    return slist"
   ]
  },
  {
   "cell_type": "code",
   "execution_count": 39,
   "metadata": {},
   "outputs": [
    {
     "name": "stdout",
     "output_type": "stream",
     "text": [
      "1.95\n"
     ]
    },
    {
     "data": {
      "text/plain": [
       "array([10703.43118486, 23728.57246756, 16569.15922863, 13201.51608172,\n",
       "       12703.23408439])"
      ]
     },
     "execution_count": 39,
     "metadata": {},
     "output_type": "execute_result"
    },
    {
     "data": {
      "image/png": "[encoded data removed]",
      "text/plain": [
       "<Figure size 720x216 with 5 Axes>"
      ]
     },
     "metadata": {
      "needs_background": "light"
     },
     "output_type": "display_data"
    }
   ],
   "source": [
    "ztest(tabs,np.arange(1.9,2.1,0.05),plot=True)"
   ]
  },
  {
   "cell_type": "code",
   "execution_count": 40,
   "metadata": {},
   "outputs": [
    {
     "name": "stdout",
     "output_type": "stream",
     "text": [
      "[22, 42, 48, 72, 81, 91]\n",
      "[22, 42, 48, 72, 81, 91]\n",
      "[22, 42, 48, 72, 81, 91]\n",
      "[22, 42, 48, 72, 81, 91]\n",
      "[22, 42, 48, 72, 81, 91]\n",
      "2.1\n"
     ]
    },
    {
     "data": {
      "text/plain": [
       "array([17964.81182006,  9764.23316083, 10337.2149952 , 16192.24523387,\n",
       "       21134.19371067])"
      ]
     },
     "execution_count": 40,
     "metadata": {},
     "output_type": "execute_result"
    },
    {
     "data": {
      "image/png": "[encoded data removed]",
      "text/plain": [
       "<Figure size 720x216 with 5 Axes>"
      ]
     },
     "metadata": {
      "needs_background": "light"
     },
     "output_type": "display_data"
    }
   ],
   "source": [
    "ztest(tabs,np.arange(1.9,2.1,0.05),plot=True,detf=True)"
   ]
  },
  {
   "cell_type": "markdown",
   "metadata": {},
   "source": [
    "# some tests with individual eclipses"
   ]
  },
  {
   "cell_type": "code",
   "execution_count": 41,
   "metadata": {},
   "outputs": [
    {
     "name": "stdout",
     "output_type": "stream",
     "text": [
      "1.8\n",
      "2.1000000000000005\n",
      "1.83\n",
      "1.8\n",
      "1.9400000000000002\n",
      "1.84\n"
     ]
    }
   ],
   "source": [
    "pds = np.arange(1.8,2.1,0.01)\n",
    "#individually for three obsids with clear eclipses\n",
    "#this isn't a great idea since only one in each one and other variability going on\n",
    "#way too sensitive, but they do sometimes agree on correct period\n",
    "\n",
    "slist0 = ztest(tabs[0],pds,dbin=0.05,pbins=10,plot=False)\n",
    "slist1 = ztest(tabs[1],pds,dbin=0.05,pbins=10,plot=False)\n",
    "slist3 = ztest(tabs[3],pds,dbin=0.05,pbins=10,plot=False)\n",
    "\n",
    "slist01 = ztest(tabs[0],pds,dbin=0.1,pbins=10,plot=False)\n",
    "slist11 = ztest(tabs[1],pds,dbin=0.1,pbins=10,plot=False)\n",
    "slist31 = ztest(tabs[3],pds,dbin=0.1,pbins=10,plot=False)"
   ]
  },
  {
   "cell_type": "code",
   "execution_count": 42,
   "metadata": {},
   "outputs": [
    {
     "data": {
      "text/plain": [
       "[<matplotlib.lines.Line2D at 0x1a24f1c190>]"
      ]
     },
     "execution_count": 42,
     "metadata": {},
     "output_type": "execute_result"
    },
    {
     "data": {
      "image/png": "[encoded data removed]",
      "text/plain": [
       "<Figure size 432x288 with 1 Axes>"
      ]
     },
     "metadata": {
      "needs_background": "light"
     },
     "output_type": "display_data"
    }
   ],
   "source": [
    "#answer and spikiness *very* sensitive to original binning (both for LC and phase-fold)\n",
    "plt.plot(pds,slist0,color='blue')\n",
    "plt.plot(pds,slist1,color='black')\n",
    "plt.plot(pds,slist3,color='red')\n",
    "\n",
    "plt.plot(pds,slist01,color='blue',linestyle='dotted')\n",
    "plt.plot(pds,slist11,color='black',linestyle='dotted')\n",
    "plt.plot(pds,slist31,color='red',linestyle='dotted')"
   ]
  },
  {
   "cell_type": "markdown",
   "metadata": {},
   "source": [
    "# tests with whole LC again\n",
    "- once it's generally working can write function to loop through different periods, phase bins, and LC bins"
   ]
  },
  {
   "cell_type": "code",
   "execution_count": 43,
   "metadata": {},
   "outputs": [
    {
     "name": "stdout",
     "output_type": "stream",
     "text": [
      "1.9500000000000002\n",
      "1.9500000000000002\n",
      "2.0\n",
      "1.9500000000000002\n",
      "1.9500000000000002\n",
      "1.9500000000000002\n"
     ]
    }
   ],
   "source": [
    "#repeat using all data\n",
    "pds = np.arange(1.7,2.1,0.05)\n",
    "#all data\n",
    "#first num references LC binning, second: phase binning\n",
    "alls52 = ztest(tabs,pds,dbin=0.05,pbins=20,plot=False)\n",
    "alls51 = ztest(tabs,pds,dbin=0.05,pbins=10,plot=False)\n",
    "alls55 = ztest(tabs,pds,dbin=0.05,pbins=15,plot=False)\n",
    "\n",
    "alls12 = ztest(tabs,pds,dbin=0.1,pbins=20,plot=False)\n",
    "alls11 = ztest(tabs,pds,dbin=0.1,pbins=10,plot=False)\n",
    "alls15 = ztest(tabs,pds,dbin=0.1,pbins=15,plot=False)\n",
    "\n",
    "# alls11 = ztest(tabs[1],pds,dbin=0.1,pbins=20,plot=False)\n",
    "# alls31 = ztest(tabs[3],pds,dbin=0.1,pbins=20,plot=False)"
   ]
  },
  {
   "cell_type": "code",
   "execution_count": 44,
   "metadata": {},
   "outputs": [],
   "source": [
    "def ztests(evt,pds,dbin=0.1,window=3,pbins=10,color='black',detf=False,retph=True):\n",
    "    sarr = np.zeros((len(pds),len(dbin),len(pbins)))\n",
    "    \n",
    "    j = 0\n",
    "    for p in pbins:\n",
    "        i = 0\n",
    "        for d in dbin:\n",
    "            slist = ztest(evt,pds,dbin=d,window=window,pbins=p,color='black',detf=False,retph=True,\n",
    "             plot=False)\n",
    "            sarr[:,i,j] = slist\n",
    "            i+=1\n",
    "        j+=1\n",
    "    return sarr"
   ]
  },
  {
   "cell_type": "code",
   "execution_count": 45,
   "metadata": {},
   "outputs": [
    {
     "name": "stdout",
     "output_type": "stream",
     "text": [
      "period: 1.9 s: 13481.427541237765\n",
      "period: 2 s: 16928.964462163953\n",
      "period: 2.1 s: 11554.349651318635\n",
      "2\n",
      "period: 1.9 s: 10703.431184861538\n",
      "period: 2 s: 16569.159228630448\n",
      "period: 2.1 s: 12703.23408439395\n",
      "2\n",
      "period: 1.9 s: 12012.701255640584\n",
      "period: 2 s: 20655.099810935637\n",
      "period: 2.1 s: 17400.47406123073\n",
      "2\n",
      "period: 1.9 s: 19848.64253876984\n",
      "period: 2 s: 26150.46786228994\n",
      "period: 2.1 s: 17013.892828618715\n",
      "2\n"
     ]
    }
   ],
   "source": [
    "sarr = ztests(tabs,[1.9,2,2.1],dbin=[0.1],pbins=[8,10,12,14])"
   ]
  },
  {
   "cell_type": "code",
   "execution_count": 46,
   "metadata": {},
   "outputs": [
    {
     "data": {
      "text/plain": [
       "(3, 1, 4)"
      ]
     },
     "execution_count": 46,
     "metadata": {},
     "output_type": "execute_result"
    }
   ],
   "source": [
    "sarr.shape"
   ]
  },
  {
   "cell_type": "code",
   "execution_count": 47,
   "metadata": {},
   "outputs": [
    {
     "data": {
      "text/plain": [
       "26150.46786228994"
      ]
     },
     "execution_count": 47,
     "metadata": {},
     "output_type": "execute_result"
    }
   ],
   "source": [
    "np.max(sarr)"
   ]
  },
  {
   "cell_type": "code",
   "execution_count": 48,
   "metadata": {},
   "outputs": [
    {
     "data": {
      "text/plain": [
       "Text(0.5, 0, 'Phase Bins')"
      ]
     },
     "execution_count": 48,
     "metadata": {},
     "output_type": "execute_result"
    },
    {
     "data": {
      "image/png": "[encoded data removed]",
      "text/plain": [
       "<Figure size 432x288 with 2 Axes>"
      ]
     },
     "metadata": {
      "needs_background": "light"
     },
     "output_type": "display_data"
    }
   ],
   "source": [
    "#can fix labels, but gives highest value at period of 2 and 14 phase bins\n",
    "plt.imshow(sarr[:,0,:],origin='lower',cmap='magma')\n",
    "plt.colorbar()\n",
    "plt.ylabel('Periods (days)')\n",
    "plt.xlabel('Phase Bins')"
   ]
  },
  {
   "cell_type": "code",
   "execution_count": 49,
   "metadata": {},
   "outputs": [
    {
     "data": {
      "image/png": "[encoded data removed]",
      "text/plain": [
       "<Figure size 432x288 with 1 Axes>"
      ]
     },
     "metadata": {
      "needs_background": "light"
     },
     "output_type": "display_data"
    }
   ],
   "source": [
    "res = fold(tabs,pd=[2],dbin=0.1,pbins=14,window=5,detf=False)"
   ]
  },
  {
   "cell_type": "code",
   "execution_count": 50,
   "metadata": {},
   "outputs": [
    {
     "name": "stdout",
     "output_type": "stream",
     "text": [
      "[22, 42, 48, 72, 81, 91]\n"
     ]
    },
    {
     "data": {
      "image/png": "[encoded data removed]",
      "text/plain": [
       "<Figure size 432x288 with 1 Axes>"
      ]
     },
     "metadata": {
      "needs_background": "light"
     },
     "output_type": "display_data"
    }
   ],
   "source": [
    "res = fold(tabs,pd=2,dbin=0.1,pbins=14,window=5,detf=True)"
   ]
  },
  {
   "cell_type": "code",
   "execution_count": 51,
   "metadata": {},
   "outputs": [
    {
     "data": {
      "text/plain": [
       "[<matplotlib.lines.Line2D at 0x1a24622e50>]"
      ]
     },
     "execution_count": 51,
     "metadata": {},
     "output_type": "execute_result"
    },
    {
     "data": {
      "image/png": "[encoded data removed]",
      "text/plain": [
       "<Figure size 432x288 with 1 Axes>"
      ]
     },
     "metadata": {
      "needs_background": "light"
     },
     "output_type": "display_data"
    }
   ],
   "source": [
    "plt.plot(pds,alls51,color='blue')\n",
    "plt.plot(pds,alls52,color='blue',linestyle='dashed')\n",
    "plt.plot(pds,alls55,color='blue',linestyle='dotted')\n",
    "\n",
    "plt.plot(pds,alls11,color='black')\n",
    "plt.plot(pds,alls12,color='black',linestyle='dashed')\n",
    "plt.plot(pds,alls15,color='black',linestyle='dotted')"
   ]
  },
  {
   "cell_type": "markdown",
   "metadata": {},
   "source": [
    "# Place to Check S Values on Made-Up Distributions\n",
    "- pulse shape, perfectly uniform, and slightly off from uniform\n",
    "- want s values to reflect these differences"
   ]
  },
  {
   "cell_type": "code",
   "execution_count": 52,
   "metadata": {},
   "outputs": [
    {
     "data": {
      "image/png": "[encoded data removed]",
      "text/plain": [
       "<Figure size 432x288 with 1 Axes>"
      ]
     },
     "metadata": {
      "needs_background": "light"
     },
     "output_type": "display_data"
    }
   ],
   "source": [
    "#test S value for more obvious case\n",
    "st = plt.hist(np.arange(0,1,.1),bins=10,weights=[15.3,30,60,46,24,13,5.6,0.4,17.2,25],histtype='step',color='black')"
   ]
  },
  {
   "cell_type": "code",
   "execution_count": 53,
   "metadata": {},
   "outputs": [
    {
     "data": {
      "image/png": "[encoded data removed]",
      "text/plain": [
       "<Figure size 432x288 with 1 Axes>"
      ]
     },
     "metadata": {
      "needs_background": "light"
     },
     "output_type": "display_data"
    }
   ],
   "source": [
    "stu = plt.hist(np.arange(0,1,.1),bins=10,weights=np.ones(10),histtype='step',color='black')\n",
    "st2 = plt.hist(np.arange(0,1,.1),bins=10,weights=[0.5,0.5,0.5,0.6,0.5,0.5,0.5,0.4,0.6,0.6],histtype='step',color='red')"
   ]
  },
  {
   "cell_type": "code",
   "execution_count": 54,
   "metadata": {},
   "outputs": [
    {
     "data": {
      "text/plain": [
       "124.91437632135307"
      ]
     },
     "execution_count": 54,
     "metadata": {},
     "output_type": "execute_result"
    }
   ],
   "source": [
    "np.nansum(((st[0]-np.nanmean(st[0]))**2)/(np.sqrt(np.nanmean(st[0]))**2))"
   ]
  },
  {
   "cell_type": "code",
   "execution_count": 55,
   "metadata": {},
   "outputs": [
    {
     "data": {
      "text/plain": [
       "0.0"
      ]
     },
     "execution_count": 55,
     "metadata": {},
     "output_type": "execute_result"
    }
   ],
   "source": [
    "np.nansum(((stu[0]-np.nanmean(stu[0]))**2)/(np.sqrt(np.nanmean(stu[0]))**2))"
   ]
  },
  {
   "cell_type": "code",
   "execution_count": 56,
   "metadata": {},
   "outputs": [
    {
     "data": {
      "text/plain": [
       "0.0692307692307692"
      ]
     },
     "execution_count": 56,
     "metadata": {},
     "output_type": "execute_result"
    }
   ],
   "source": [
    "np.nansum(((st2[0]-np.nanmean(st2[0]))**2)/(np.sqrt(np.nanmean(st2[0]))**2))"
   ]
  },
  {
   "cell_type": "code",
   "execution_count": 57,
   "metadata": {},
   "outputs": [
    {
     "data": {
      "text/plain": [
       "250.38186046511632"
      ]
     },
     "execution_count": 57,
     "metadata": {},
     "output_type": "execute_result"
    }
   ],
   "source": [
    "np.nansum(((st[1]-np.nanmean(st[0]))**2)/(np.sqrt(np.nanmean(st[0]))**2))"
   ]
  },
  {
   "cell_type": "code",
   "execution_count": 58,
   "metadata": {},
   "outputs": [
    {
     "data": {
      "text/plain": [
       "4.218500000000001"
      ]
     },
     "execution_count": 58,
     "metadata": {},
     "output_type": "execute_result"
    }
   ],
   "source": [
    "np.nansum(((stu[1]-np.nanmean(stu[0]))**2)/(np.sqrt(np.nanmean(stu[0]))**2))"
   ]
  },
  {
   "cell_type": "code",
   "execution_count": 59,
   "metadata": {},
   "outputs": [
    {
     "data": {
      "text/plain": [
       "1.8171153846153847"
      ]
     },
     "execution_count": 59,
     "metadata": {},
     "output_type": "execute_result"
    }
   ],
   "source": [
    "np.nansum(((st2[1]-np.nanmean(st2[0]))**2)/(np.sqrt(np.nanmean(st2[0]))**2))"
   ]
  }
 ],
 "metadata": {
  "kernelspec": {
   "display_name": "Python 3",
   "language": "python",
   "name": "python3"
  },
  "language_info": {
   "codemirror_mode": {
    "name": "ipython",
    "version": 3
   },
   "file_extension": ".py",
   "mimetype": "text/x-python",
   "name": "python",
   "nbconvert_exporter": "python",
   "pygments_lexer": "ipython3",
   "version": "3.7.6"
  }
 },
 "nbformat": 4,
 "nbformat_minor": 4
}
