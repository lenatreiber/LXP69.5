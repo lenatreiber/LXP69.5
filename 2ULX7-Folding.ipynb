{
 "cells": [
  {
   "cell_type": "code",
   "execution_count": 1,
   "metadata": {},
   "outputs": [],
   "source": [
    "from uncertainties import ufloat\n",
    "from uncertainties.umath import *\n",
    "import math\n",
    "import numpy as np\n",
    "import matplotlib.pyplot as plt\n",
    "import pandas as pd\n",
    "from astropy.stats import LombScargle\n",
    "from scipy import signal\n",
    "%matplotlib inline\n",
    "import warnings\n",
    "warnings.filterwarnings(\"ignore\")\n",
    "import scipy.optimize\n",
    "from lmfit.models import GaussianModel"
   ]
  },
  {
   "cell_type": "code",
   "execution_count": 2,
   "metadata": {},
   "outputs": [],
   "source": [
    "from astropy.table import Table,vstack,unique\n",
    "from astropy.io import fits\n",
    "import glob"
   ]
  },
  {
   "cell_type": "markdown",
   "metadata": {},
   "source": [
    "# To Dos\n",
    "- ready to properly do statistic!\n",
    "- make sure same answer given by lcurve"
   ]
  },
  {
   "cell_type": "markdown",
   "metadata": {},
   "source": [
    "# Define Functions"
   ]
  },
  {
   "cell_type": "code",
   "execution_count": 3,
   "metadata": {},
   "outputs": [],
   "source": [
    "def sf(file,dpi=200):\n",
    "    plt.savefig(file+'.png',dpi=dpi,bbox_inches=False)"
   ]
  },
  {
   "cell_type": "code",
   "execution_count": 87,
   "metadata": {},
   "outputs": [],
   "source": [
    "def detrend(x2,y2,plot=False,retx=False,err=True,cerr=0,drop=True):\n",
    "    '''Detrend LC by redefining counts as ratio of counts to linear best fit to data.\n",
    "    If it's easier, can change to use hist as argument rather than x and y'''\n",
    "    #find linear best fit to data\n",
    "    #excluse points with zero count rate (btwn obsids)\n",
    "    #if drop is True, gets rid of counts of 0\n",
    "    #not needed if called from lcfr\n",
    "    if drop:\n",
    "        indz = np.where(y2!=0)[0]\n",
    "        x = x2[indz]\n",
    "        y = y2[indz]\n",
    "        cerr2 = cerr[indz]\n",
    "    else:\n",
    "        x = x2\n",
    "        y = y2\n",
    "        cerr2 = cerr\n",
    "    mod = np.polyfit(x,y,1)\n",
    "    #detrended data is ratio of original counts to linear fit\n",
    "    det = y/(mod[0]*x+mod[1])\n",
    "    if err: nerr = cerr2/(mod[0]*x+mod[1])\n",
    "    if plot:\n",
    "        fig,ax = plt.subplots(1,2,figsize=(10,4))\n",
    "        ax[0].plot(x,mod[0]*x+mod[1],color='red')\n",
    "        ax[0].scatter(x,y,color='black')\n",
    "        ax[1].scatter(x,det,color='black')\n",
    "        ax[1].set_ylabel('Detrended Counts')\n",
    "        ax[0].set_ylabel('Counts')\n",
    "        ax[0].set_xlabel('Days')\n",
    "    if retx and err: return x,det,nerr\n",
    "    elif retx: return x,det\n",
    "    elif err: return det,nerr\n",
    "    else: return det"
   ]
  },
  {
   "cell_type": "code",
   "execution_count": 4,
   "metadata": {},
   "outputs": [],
   "source": [
    "def periodogram(time,counts,minp,maxp,sec=True,plot=True):\n",
    "    '''Perform and plot single LS periodogram.\n",
    "    Two different return options.'''\n",
    "    fig = plt.figure(figsize=(8, 4))\n",
    "\n",
    "    ls = LombScargle(time, counts)\n",
    "    freq, power = ls.autopower(normalization='standard',\n",
    "                           minimum_frequency=1/maxp,\n",
    "                           maximum_frequency=1/minp,\n",
    "                           samples_per_peak=10)\n",
    "#     if bayes: power = np.exp(power)\n",
    "    if sec and plot: plt.plot((1/freq)/(3600*24),power,color='black')\n",
    "    elif plot: plt.plot(1/freq,power,color='black')\n",
    "    best_freq = freq[np.argmax(power)]\n",
    "    if plot:\n",
    "        plt.xlabel('Period',fontsize=14)\n",
    "        plt.ylabel('Power',fontsize=14)\n",
    "#     if more:\n",
    "#         return freq, power, 1/best_freq\n",
    "    if sec: return ('days:',(1/best_freq)/(3600*24))\n",
    "    else: return 1/best_freq"
   ]
  },
  {
   "cell_type": "markdown",
   "metadata": {},
   "source": [
    "# Read in Event Files"
   ]
  },
  {
   "cell_type": "code",
   "execution_count": 5,
   "metadata": {
    "collapsed": true,
    "jupyter": {
     "outputs_hidden": true
    }
   },
   "outputs": [
    {
     "data": {
      "text/plain": [
       "['src_13816.fits',\n",
       " 'src_15496.fits',\n",
       " 'src_13812.fits',\n",
       " 'src_15553.fits',\n",
       " 'src_13813.fits',\n",
       " 'src_13814.fits',\n",
       " 'src_13815.fits']"
      ]
     },
     "execution_count": 5,
     "metadata": {},
     "output_type": "execute_result"
    }
   ],
   "source": [
    "evts = glob.glob('s*.fits')\n",
    "evts"
   ]
  },
  {
   "cell_type": "code",
   "execution_count": 6,
   "metadata": {
    "collapsed": true,
    "jupyter": {
     "outputs_hidden": true
    }
   },
   "outputs": [
    {
     "name": "stdout",
     "output_type": "stream",
     "text": [
      "src_13816.fits 465025372.8442148\n",
      "src_15496.fits 464434911.77284586\n",
      "src_13812.fits 463862614.391263\n",
      "src_15553.fits 466218621.51459354\n",
      "src_13813.fits 463601910.9877028\n",
      "src_13814.fits 464514703.4699503\n",
      "src_13815.fits 464776486.86331296\n"
     ]
    }
   ],
   "source": [
    "#make list of astropy event tables\n",
    "#seven elements for seven obsids\n",
    "tabs = []\n",
    "for e in evts:\n",
    "    hdu_list = fits.open(e, memmap=True)\n",
    "    t = Table(hdu_list[1].data)\n",
    "    #add row to astropy table for days\n",
    "    #can adjust to use mjdref later\n",
    "    t['day'] = t['time']/(3600*24)\n",
    "    tabs.append(t)\n",
    "    print(e,t['time'][0])"
   ]
  },
  {
   "cell_type": "code",
   "execution_count": 7,
   "metadata": {},
   "outputs": [],
   "source": [
    "def sorf(e):\n",
    "    return e['day'][0]\n",
    "#sort list of tables by start time in each\n",
    "tabs.sort(key=sorf)"
   ]
  },
  {
   "cell_type": "code",
   "execution_count": 11,
   "metadata": {},
   "outputs": [],
   "source": [
    "#only keep ones with eclipses (0,1,3)\n",
    "tabs = [tabs[0],tabs[1],tabs[3]]"
   ]
  },
  {
   "cell_type": "code",
   "execution_count": 21,
   "metadata": {
    "collapsed": true,
    "jupyter": {
     "outputs_hidden": true
    }
   },
   "outputs": [
    {
     "data": {
      "text/plain": [
       "<matplotlib.lines.Line2D at 0x1a1e5e2690>"
      ]
     },
     "execution_count": 21,
     "metadata": {},
     "output_type": "execute_result"
    },
    {
     "data": {
      "image/png": "[encoded data removed]",
      "text/plain": [
       "<Figure size 432x288 with 1 Axes>"
      ]
     },
     "metadata": {
      "needs_background": "light"
     },
     "output_type": "display_data"
    }
   ],
   "source": [
    "h1 = plt.hist(tabs[0]['day'],bins=np.arange(tabs[0]['day'][0],tabs[0]['day'][-1],0.1),histtype='step',color='black')\n",
    "h2 = plt.hist(tabs[1]['day'],bins=np.arange(tabs[1]['day'][0],tabs[1]['day'][-1],0.1),histtype='step',color='black')\n",
    "h3 = plt.hist(tabs[2]['day'],bins=np.arange(tabs[2]['day'][0],tabs[2]['day'][-1],0.1),histtype='step',color='black')\n",
    "plt.axvline(5366.93,color='grey',alpha=.6)\n",
    "plt.axvline(5368.93,color='grey',alpha=.6)\n",
    "plt.axvline(5370.93,color='grey',alpha=.2)\n",
    "plt.axvline(5372.93,color='grey',alpha=.2)\n",
    "plt.axvline(5374.93,color='grey',alpha=.2)\n",
    "plt.axvline(5376.93,color='grey',alpha=.6) #grey lines show three eclipses"
   ]
  },
  {
   "cell_type": "code",
   "execution_count": 16,
   "metadata": {},
   "outputs": [],
   "source": [
    "#make astropy table of all events (stack obsids)\n",
    "join = vstack(tabs)"
   ]
  },
  {
   "cell_type": "code",
   "execution_count": 17,
   "metadata": {},
   "outputs": [],
   "source": [
    "#make sure only unique events kept\n",
    "join = unique(join,keys='time')"
   ]
  },
  {
   "cell_type": "markdown",
   "metadata": {},
   "source": [
    "- so we want to fold a lightcurve rather than evts\n",
    "- lightcurve already has even time binning\n",
    "- so we essentially want to bin within the counts or det vs. day plot\n",
    "- we can do this with arrays by reshaping and summing along that axis"
   ]
  },
  {
   "cell_type": "markdown",
   "metadata": {},
   "source": [
    "# initial goal: phase-fold lightcurve by some period and give S"
   ]
  },
  {
   "cell_type": "code",
   "execution_count": 66,
   "metadata": {},
   "outputs": [],
   "source": [
    "#define function to make lightcurve hist using table of events\n",
    "def lc(evt,dbin):\n",
    "    '''\n",
    "    evt: table of events, including time in days, or list of tables of events\n",
    "    dbin: size of bin in days\n",
    "    TO DO: rather than list, just add obsid and do find allbins without a loop\n",
    "    non-constant bin width so need to divide by bin width for count rate\n",
    "    count rate per day so higher than original in each bin\n",
    "    '''\n",
    "    #list of event tables (see to-do)\n",
    "    if isinstance(evt,list):\n",
    "        allb = []\n",
    "        for i in range(len(evt)):\n",
    "            tbins = np.arange(tabs[i]['day'][0],tabs[i]['day'][-1],dbin)\n",
    "            #add last time in obsid to list of bins\n",
    "            #addition of small offset so that that last time count is included in bin and not between obsids\n",
    "            offset = 1e-2*dbin\n",
    "            tbins = np.concatenate([tbins,[offset+tabs[i]['day'][-1]]])\n",
    "            allb.append(tbins)\n",
    "        #make into one array rather than list of seven arrays\n",
    "        allb = np.concatenate(allb)\n",
    "        #join tables\n",
    "        join = vstack(tabs)\n",
    "        join = unique(join,keys='time')\n",
    "        h = plt.hist(join['day'],bins=allb,histtype='step',color='black')\n",
    "        #count err\n",
    "        cerr = np.sqrt(h[0])\n",
    "        #immediately divide by bin width to avoid confusion down the line\n",
    "        bin_wid = h[1][1:]-h[1][:-1] #width is end of bin - beginning of bin\n",
    "        #calculate count rate using counts and bin width\n",
    "        cr = h[0]/bin_wid\n",
    "        #divide error \n",
    "        crerr = cerr/bin_wid\n",
    "        #CR PER DAY SO INCREASES FROM ORIGINAL\n",
    "        newh = (cr,h[1])\n",
    "        #for now, outputs original histogram but returns cr\n",
    "        return newh, crerr\n",
    "    else:\n",
    "        h = plt.hist(evt['day'],bins=np.arange(evt['day'][0],evt['day'][-1],dbin),histtype='step',color='black')\n",
    "        err = np.sqrt(h[0])\n",
    "    return h,err"
   ]
  },
  {
   "cell_type": "code",
   "execution_count": 56,
   "metadata": {
    "collapsed": true,
    "jupyter": {
     "outputs_hidden": true
    }
   },
   "outputs": [
    {
     "data": {
      "image/png": "[encoded data removed]",
      "text/plain": [
       "<Figure size 432x288 with 1 Axes>"
      ]
     },
     "metadata": {
      "needs_background": "light"
     },
     "output_type": "display_data"
    }
   ],
   "source": [
    "l,crerr = lc(tabs,0.1)"
   ]
  },
  {
   "cell_type": "code",
   "execution_count": 61,
   "metadata": {},
   "outputs": [
    {
     "data": {
      "image/png": "[encoded data removed]",
      "text/plain": [
       "<Figure size 720x288 with 2 Axes>"
      ]
     },
     "metadata": {
      "needs_background": "light"
     },
     "output_type": "display_data"
    }
   ],
   "source": [
    "nzx,det,nerr = detrend(l[1][:-1],l[0],plot=True,retx=True,err=True,cerr=crerr)"
   ]
  },
  {
   "cell_type": "code",
   "execution_count": 62,
   "metadata": {},
   "outputs": [
    {
     "data": {
      "text/plain": [
       "Text(0.5, 0, 'Phase (1.9969 d)')"
      ]
     },
     "execution_count": 62,
     "metadata": {},
     "output_type": "execute_result"
    },
    {
     "data": {
      "image/png": "[encoded data removed]",
      "text/plain": [
       "<Figure size 432x288 with 1 Axes>"
      ]
     },
     "metadata": {
      "needs_background": "light"
     },
     "output_type": "display_data"
    }
   ],
   "source": [
    "plt.errorbar((nzx%1.9969)/1.9969,det,yerr=nerr,linestyle='none',marker='o',color='black')\n",
    "plt.ylabel('Normalized Counts')\n",
    "plt.xlabel('Phase (1.9969 d)')\n",
    "# sf('detfold') #add average using phase binning"
   ]
  },
  {
   "cell_type": "code",
   "execution_count": 65,
   "metadata": {},
   "outputs": [
    {
     "data": {
      "text/plain": [
       "<matplotlib.lines.Line2D at 0x1a1ef3a710>"
      ]
     },
     "execution_count": 65,
     "metadata": {},
     "output_type": "execute_result"
    },
    {
     "data": {
      "image/png": "[encoded data removed]",
      "text/plain": [
       "<Figure size 432x288 with 1 Axes>"
      ]
     },
     "metadata": {
      "needs_background": "light"
     },
     "output_type": "display_data"
    }
   ],
   "source": [
    "plt.errorbar(nzx,det,yerr=nerr,color='black',linestyle='none',marker='o')\n",
    "plt.axvline(5366.93,color='red',alpha=.6)\n",
    "plt.axvline(5368.93,color='red',alpha=.6)\n",
    "plt.axvline(5370.93,color='grey',alpha=.2)\n",
    "plt.axvline(5372.93,color='grey',alpha=.2)\n",
    "plt.axvline(5374.93,color='grey',alpha=.2)\n",
    "plt.axvline(5376.93,color='red',alpha=.6) #grey lines show three eclipses\n"
   ]
  },
  {
   "cell_type": "code",
   "execution_count": 84,
   "metadata": {},
   "outputs": [],
   "source": [
    "#one function creating lightcurve and making DataFrame, including detrended column\n",
    "def lcfr(evt,dbin,det=True):\n",
    "    h,err = lc(evt,dbin)\n",
    "    plt.close()\n",
    "    fr = pd.DataFrame(columns=['day','counts','count err','det','det err','bin'])\n",
    "    #can update to get better time estimate (central time rather than bin start time)\n",
    "    fr['day'] = h[1][:-1]\n",
    "    fr['counts'] = h[0]\n",
    "    fr['count err'] = err\n",
    "    #bin width (exposure time) in bin column\n",
    "    fr['bin'] = (h[1][1:]-h[1][:-1])\n",
    "    #find places with zero counts and delete from DataFrame\n",
    "    btwn = np.where(fr['counts']==0)\n",
    "    btwn = list(btwn[0])\n",
    "    fr = fr.drop(index=btwn)\n",
    "    if det: \n",
    "        #already dropped zeros in this case\n",
    "        detr,deterr = detrend(fr['day'],fr['counts'],err=True,cerr=fr['count err'],drop=False)\n",
    "        fr['det'] = detr\n",
    "        fr['det err'] = deterr\n",
    "    return fr"
   ]
  },
  {
   "cell_type": "code",
   "execution_count": 88,
   "metadata": {},
   "outputs": [],
   "source": [
    "fr = lcfr(tabs,0.1) #defaults to including detrending now"
   ]
  },
  {
   "cell_type": "code",
   "execution_count": 110,
   "metadata": {},
   "outputs": [
    {
     "data": {
      "text/plain": [
       "20    0.100000\n",
       "21    0.002017\n",
       "23    0.100000\n",
       "24    0.100000\n",
       "25    0.100000\n",
       "26    0.100000\n",
       "27    0.100000\n",
       "28    0.100000\n",
       "29    0.100000\n",
       "30    0.100000\n",
       "Name: bin, dtype: float64"
      ]
     },
     "execution_count": 110,
     "metadata": {},
     "output_type": "execute_result"
    }
   ],
   "source": [
    "fr['bin'][20:30]"
   ]
  },
  {
   "cell_type": "code",
   "execution_count": 89,
   "metadata": {},
   "outputs": [
    {
     "data": {
      "text/plain": [
       "<ErrorbarContainer object of 3 artists>"
      ]
     },
     "execution_count": 89,
     "metadata": {},
     "output_type": "execute_result"
    },
    {
     "data": {
      "image/png": "[encoded data removed]",
      "text/plain": [
       "<Figure size 432x288 with 1 Axes>"
      ]
     },
     "metadata": {
      "needs_background": "light"
     },
     "output_type": "display_data"
    }
   ],
   "source": [
    "plt.errorbar((fr['day']%1.9969)/1.9969,fr['det'],yerr=fr['det err'],linestyle='none',marker='o',color='black')\n"
   ]
  },
  {
   "cell_type": "code",
   "execution_count": 113,
   "metadata": {},
   "outputs": [
    {
     "data": {
      "text/plain": [
       "array([0.1, 0.2, 0.3, 0.4, 0.5, 0.6, 0.7, 0.8, 0.9])"
      ]
     },
     "execution_count": 113,
     "metadata": {},
     "output_type": "execute_result"
    }
   ],
   "source": [
    "np.arange(1/10,1,1/10)"
   ]
  },
  {
   "cell_type": "code",
   "execution_count": 122,
   "metadata": {},
   "outputs": [],
   "source": [
    "fr2 = fr\n",
    "fr2['phase'] = (fr['day']%2)/2"
   ]
  },
  {
   "cell_type": "code",
   "execution_count": 137,
   "metadata": {},
   "outputs": [
    {
     "data": {
      "text/plain": [
       "0.14650641192281658"
      ]
     },
     "execution_count": 137,
     "metadata": {},
     "output_type": "execute_result"
    }
   ],
   "source": [
    "float(fr['phase'][2:3])"
   ]
  },
  {
   "cell_type": "code",
   "execution_count": 198,
   "metadata": {},
   "outputs": [
    {
     "data": {
      "text/plain": [
       "array([0.1, 0.2, 0.3, 0.4, 0.5, 0.6, 0.7, 0.8, 0.9, 1. ])"
      ]
     },
     "execution_count": 198,
     "metadata": {},
     "output_type": "execute_result"
    }
   ],
   "source": [
    "np.arange(1/10,1+1/10,1/10)"
   ]
  },
  {
   "cell_type": "code",
   "execution_count": 209,
   "metadata": {},
   "outputs": [],
   "source": [
    "def nfold(evt,pd,dbin=0.1,pbins=16,color='red',linestyle='solid'):\n",
    "    '''\n",
    "    new fold function: plot original folded points and line using phase-fold\n",
    "    assumes you want detrended data for now\n",
    "    '''\n",
    "    if isinstance(evt,list):\n",
    "        fr = lcfr(evt,dbin)\n",
    "    #if ready-made DataFrame from lcfr function passed in\n",
    "    else:\n",
    "        fr = evt\n",
    "    #now phase always goes up to 1\n",
    "    fr['phase'] = (fr['day']%pd)/pd\n",
    "    fr = fr.sort_values(by='phase',ascending=True)\n",
    "#         ph = plt.hist(fr['phase']/pd,bins=pbins,weights=fr['det'],histtype='step',color=color,linestyle=linestyle)\n",
    "    plt.close()\n",
    "    #find average count rate in each phase bin\n",
    "        \n",
    "    #other method with just loop length of number of phase bins\n",
    "    #for now just one to do all the necessary filtering\n",
    "    avgs = [] #list of average count rate in each phase bin\n",
    "    endb = np.arange(1/pbins,1+1/pbins,1/pbins)\n",
    "    for p in endb:\n",
    "        #phase in temporary df is less than phase in endb and more than the previous one\n",
    "        tempfr = fr[fr['phase']<=p]\n",
    "        tempfr = tempfr[tempfr['phase']>p-1/pbins]\n",
    "        avgs.append(np.mean(tempfr['det']))\n",
    "    plt.figure(figsize=(8,4))\n",
    "    endb2 = np.concatenate([np.array([0]),endb])\n",
    "    mid = (endb2[1:]+endb2[:-1])/2\n",
    "    plt.plot(mid,avgs,color=color,linestyle=linestyle)\n",
    "    plt.ylabel('Normalized Rate')\n",
    "    plt.xlabel('Phase ('+str(pd)+'d)')\n",
    "    plt.errorbar(fr['phase'],fr['det'],yerr=fr['det err'],linestyle='none',marker='o',color='black')\n",
    "\n",
    "    return fr,avgs"
   ]
  },
  {
   "cell_type": "code",
   "execution_count": 204,
   "metadata": {},
   "outputs": [
    {
     "data": {
      "image/png": "[encoded data removed]",
      "text/plain": [
       "<Figure size 576x288 with 1 Axes>"
      ]
     },
     "metadata": {
      "needs_background": "light"
     },
     "output_type": "display_data"
    }
   ],
   "source": [
    "fr2,avg = nfold(fr,1.9969,pbins=10)"
   ]
  },
  {
   "cell_type": "code",
   "execution_count": 214,
   "metadata": {},
   "outputs": [
    {
     "data": {
      "image/png": "[encoded data removed]",
      "text/plain": [
       "<Figure size 576x288 with 1 Axes>"
      ]
     },
     "metadata": {
      "needs_background": "light"
     },
     "output_type": "display_data"
    }
   ],
   "source": [
    "#another example: smaller initial binning, larger phase bins\n",
    "fr3,avg = nfold(tabs,1.9969,dbin=0.05,pbins=30)\n",
    "sf('fold0.5_30')"
   ]
  },
  {
   "cell_type": "code",
   "execution_count": null,
   "metadata": {},
   "outputs": [],
   "source": [
    "def ztest():\n",
    "    "
   ]
  }
 ],
 "metadata": {
  "kernelspec": {
   "display_name": "Python 3",
   "language": "python",
   "name": "python3"
  },
  "language_info": {
   "codemirror_mode": {
    "name": "ipython",
    "version": 3
   },
   "file_extension": ".py",
   "mimetype": "text/x-python",
   "name": "python",
   "nbconvert_exporter": "python",
   "pygments_lexer": "ipython3",
   "version": "3.7.6"
  }
 },
 "nbformat": 4,
 "nbformat_minor": 4
}
