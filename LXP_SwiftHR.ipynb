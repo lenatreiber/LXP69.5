{
 "cells": [
  {
   "cell_type": "code",
   "execution_count": 1,
   "metadata": {},
   "outputs": [],
   "source": [
    "import numpy as np\n",
    "import matplotlib.pyplot as plt\n",
    "import pandas as pd\n",
    "from astropy.io import fits\n",
    "%matplotlib inline\n",
    "from uncertainties import ufloat, unumpy\n",
    "from uncertainties.umath import *\n",
    "import math\n",
    "from astropy.table import Table"
   ]
  },
  {
   "cell_type": "code",
   "execution_count": 2,
   "metadata": {},
   "outputs": [
    {
     "name": "stdout",
     "output_type": "stream",
     "text": [
      "/Users/lenatreiber/Desktop/Yale\n"
     ]
    }
   ],
   "source": [
    "cd ../"
   ]
  },
  {
   "cell_type": "code",
   "execution_count": 3,
   "metadata": {},
   "outputs": [],
   "source": [
    "import hardnessratios as h"
   ]
  },
  {
   "cell_type": "markdown",
   "metadata": {},
   "source": [
    "Investigating HR using Swift data of LXP 69.5 was more complicated than I expected, probably thanks to the much lower total count rates. Last time I worked on Swift HRs, there were 186,000 events to work with. Here, there are only a total of 725 as far as I understand it. So I approached the binning in a few different ways: importing the evt file and separating by obsid; using the online product's PCHR qdp file, which separates the soft and hard rates, I think by obsid as well. And then I experimented with binning in time and by some number of events.\n",
    "\n",
    "It may be helpful to do HR vs. time and HR vs. count rate analysis on the NICER data instead, but hopefully there's something meaningful to be seen here as well. "
   ]
  },
  {
   "cell_type": "markdown",
   "metadata": {},
   "source": [
    "# Import Evt File"
   ]
  },
  {
   "cell_type": "code",
   "execution_count": 4,
   "metadata": {},
   "outputs": [
    {
     "name": "stdout",
     "output_type": "stream",
     "text": [
      "RXJ0529.8-6556\n",
      "total events: 725\n"
     ]
    }
   ],
   "source": [
    "#file path and name\n",
    "file = 'LXP69.5_Swift/lc/pcsourcetotal.evt'\n",
    "#put evt file into astropy table\n",
    "hdu_list = fits.open(file, memmap=True)\n",
    "evt_data = Table(hdu_list[1].data)\n",
    "\n",
    "hdr = fits.getheader(file)\n",
    "objname = hdr['OBJECT'] \n",
    "print(objname)\n",
    "print('total events:',len(evt_data))\n",
    "\n",
    "#find MJD dates of events\n",
    "mjd = h.timeconvert(evt_data['TIME'],hdr)\n"
   ]
  },
  {
   "cell_type": "code",
   "execution_count": 5,
   "metadata": {},
   "outputs": [],
   "source": [
    "#add MJD-50000 to astropy table\n",
    "evt_data['day']=mjd-50000"
   ]
  },
  {
   "cell_type": "code",
   "execution_count": 6,
   "metadata": {},
   "outputs": [
    {
     "data": {
      "text/html": [
       "<i>Table length=44</i>\n",
       "<table id=\"table4877295248\" class=\"table-striped table-bordered table-condensed\">\n",
       "<thead><tr><th>START</th><th>STOP</th></tr></thead>\n",
       "<thead><tr><th>float64</th><th>float64</th></tr></thead>\n",
       "<tr><td>435976958.53777176</td><td>435977279.4721718</td></tr>\n",
       "<tr><td>437008235.64705175</td><td>437008917.63265175</td></tr>\n",
       "<tr><td>545219201.7821916</td><td>545219447.4975916</td></tr>\n",
       "<tr><td>545219473.6065234</td><td>545219726.8438233</td></tr>\n",
       "<tr><td>546411645.8440516</td><td>546411879.0229515</td></tr>\n",
       "<tr><td>546411902.7736717</td><td>546412156.0109715</td></tr>\n",
       "<tr><td>548249833.7930317</td><td>548250077.0011315</td></tr>\n",
       "<tr><td>548250110.4025117</td><td>548250356.1179116</td></tr>\n",
       "<tr><td>548828727.1571916</td><td>548828980.3944916</td></tr>\n",
       "<tr><td>548829004.2230917</td><td>548829259.9676917</td></tr>\n",
       "<tr><td>...</td><td>...</td></tr>\n",
       "<tr><td>616658993.3995717</td><td>616659116.2572716</td></tr>\n",
       "<tr><td>616986602.5516318</td><td>616987377.3073318</td></tr>\n",
       "<tr><td>616992362.9536116</td><td>616993137.7093116</td></tr>\n",
       "<tr><td>617015506.8439716</td><td>617015697.3987715</td></tr>\n",
       "<tr><td>617386694.3881317</td><td>617387454.1000316</td></tr>\n",
       "<tr><td>617387456.6106716</td><td>617387877.8370715</td></tr>\n",
       "<tr><td>617393208.3978516</td><td>617393998.1973516</td></tr>\n",
       "<tr><td>617409926.0415119</td><td>617410738.4067117</td></tr>\n",
       "<tr><td>617747924.9683917</td><td>617749497.0454916</td></tr>\n",
       "<tr><td>617754339.1867234</td><td>617754777.9642233</td></tr>\n",
       "</table>"
      ],
      "text/plain": [
       "<Table length=44>\n",
       "      START               STOP       \n",
       "     float64            float64      \n",
       "------------------ ------------------\n",
       "435976958.53777176  435977279.4721718\n",
       "437008235.64705175 437008917.63265175\n",
       " 545219201.7821916  545219447.4975916\n",
       " 545219473.6065234  545219726.8438233\n",
       " 546411645.8440516  546411879.0229515\n",
       " 546411902.7736717  546412156.0109715\n",
       " 548249833.7930317  548250077.0011315\n",
       " 548250110.4025117  548250356.1179116\n",
       " 548828727.1571916  548828980.3944916\n",
       " 548829004.2230917  548829259.9676917\n",
       "               ...                ...\n",
       " 616658993.3995717  616659116.2572716\n",
       " 616986602.5516318  616987377.3073318\n",
       " 616992362.9536116  616993137.7093116\n",
       " 617015506.8439716  617015697.3987715\n",
       " 617386694.3881317  617387454.1000316\n",
       " 617387456.6106716  617387877.8370715\n",
       " 617393208.3978516  617393998.1973516\n",
       " 617409926.0415119  617410738.4067117\n",
       " 617747924.9683917  617749497.0454916\n",
       " 617754339.1867234  617754777.9642233"
      ]
     },
     "execution_count": 6,
     "metadata": {},
     "output_type": "execute_result"
    }
   ],
   "source": [
    "Table(hdu_list[2].data)\n",
    "#not sure what length of 44 corresponds to"
   ]
  },
  {
   "cell_type": "code",
   "execution_count": 7,
   "metadata": {},
   "outputs": [
    {
     "data": {
      "text/html": [
       "<i>Table length=5</i>\n",
       "<table id=\"table4877465232\" class=\"table-striped table-bordered table-condensed\">\n",
       "<thead><tr><th>TIME</th><th>X</th><th>Y</th><th>RAWX</th><th>RAWY</th><th>DETX</th><th>DETY</th><th>PHA</th><th>PI</th><th>GRADE</th><th>STATUS [16]</th><th>BPFILE</th><th>SRCRAD</th><th>PUPRAD</th><th>OBSDIR</th><th>day</th></tr></thead>\n",
       "<thead><tr><th>float64</th><th>int16</th><th>int16</th><th>int16</th><th>int16</th><th>int16</th><th>int16</th><th>int32</th><th>int32</th><th>int16</th><th>bool</th><th>str24</th><th>int32</th><th>float64</th><th>str37</th><th>float64</th></tr></thead>\n",
       "<tr><td>435976971.07427174</td><td>548</td><td>501</td><td>341</td><td>111</td><td>342</td><td>112</td><td>97</td><td>28</td><td>0</td><td>False .. False</td><td>badpixel_file_number0009</td><td>12</td><td>0.0</td><td>/swift/data/local_reproc/00033493001</td><td>6956.030500674438</td></tr>\n",
       "<tr><td>435977191.7178117</td><td>541</td><td>505</td><td>342</td><td>121</td><td>343</td><td>122</td><td>1257</td><td>361</td><td>0</td><td>False .. False</td><td>badpixel_file_number0009</td><td>12</td><td>0.0</td><td>/swift/data/local_reproc/00033493001</td><td>6956.0330544191165</td></tr>\n",
       "<tr><td>437008343.46095175</td><td>538</td><td>516</td><td>373</td><td>144</td><td>374</td><td>145</td><td>96</td><td>35</td><td>0</td><td>False .. False</td><td>badpixel_file_number0010</td><td>12</td><td>0.0</td><td>/swift/data/local_reproc/00033493002</td><td>6967.967681075825</td></tr>\n",
       "<tr><td>437008376.0559316</td><td>547</td><td>509</td><td>374</td><td>134</td><td>375</td><td>135</td><td>727</td><td>230</td><td>1</td><td>False .. False</td><td>badpixel_file_number0010</td><td>12</td><td>0.0</td><td>/swift/data/local_reproc/00033493002</td><td>6967.968058332539</td></tr>\n",
       "<tr><td>437008516.46529174</td><td>541</td><td>510</td><td>376</td><td>138</td><td>377</td><td>139</td><td>1619</td><td>472</td><td>0</td><td>False .. False</td><td>badpixel_file_number0010</td><td>12</td><td>0.0</td><td>/swift/data/local_reproc/00033493002</td><td>6967.969683440875</td></tr>\n",
       "</table>"
      ],
      "text/plain": [
       "<Table length=5>\n",
       "       TIME          X   ...        day        \n",
       "     float64       int16 ...      float64      \n",
       "------------------ ----- ... ------------------\n",
       "435976971.07427174   548 ...  6956.030500674438\n",
       " 435977191.7178117   541 ... 6956.0330544191165\n",
       "437008343.46095175   538 ...  6967.967681075825\n",
       " 437008376.0559316   547 ...  6967.968058332539\n",
       "437008516.46529174   541 ...  6967.969683440875"
      ]
     },
     "execution_count": 7,
     "metadata": {},
     "output_type": "execute_result"
    }
   ],
   "source": [
    "evt_data[:5]"
   ]
  },
  {
   "cell_type": "markdown",
   "metadata": {},
   "source": [
    "# Strategy 1: Separate by Obsid\n",
    "- method used in past for finding HRs of Swift data\n",
    "- uses hardnessratios.py"
   ]
  },
  {
   "cell_type": "code",
   "execution_count": 8,
   "metadata": {},
   "outputs": [],
   "source": [
    "#find indices of change between different obs ids, as well as mean time in seconds and MJD\n",
    "change,mt,mjd = h.sepobs(evt_data['OBSDIR'],evt_data['TIME'],evt_data['day'])"
   ]
  },
  {
   "cell_type": "code",
   "execution_count": 9,
   "metadata": {},
   "outputs": [],
   "source": [
    "#first epoch of data\n",
    "e1 = evt_data[evt_data['day']<8000]\n",
    "e2 = evt_data[evt_data['day']>8000]\n",
    "e2 = e2[e2['day']<8500]\n",
    "e3 = evt_data[evt_data['day']>8500]"
   ]
  },
  {
   "cell_type": "code",
   "execution_count": 10,
   "metadata": {},
   "outputs": [],
   "source": [
    "sh, hr, rerr, oth = h.ebin(evt_data['PI'],change,30,150,1000)\n",
    "change2,mt2,mjd2 = h.sepobs(e2['OBSDIR'],e2['TIME'],e2['day'])\n",
    "sh2, hr2, rerr2, oth2 = h.ebin(e2['PI'],change2,30,150,1000)\n",
    "change3,mt3,mjd3 = h.sepobs(e3['OBSDIR'],e3['TIME'],e3['day'])\n",
    "sh3, hr3, rerr3, oth3 = h.ebin(e3['PI'],change3,30,150,1000)"
   ]
  },
  {
   "cell_type": "code",
   "execution_count": 11,
   "metadata": {},
   "outputs": [
    {
     "data": {
      "text/plain": [
       "array([101.,  85., 145.,  79.,  26.,  18.,  20.,  18.])"
      ]
     },
     "execution_count": 11,
     "metadata": {},
     "output_type": "execute_result"
    }
   ],
   "source": [
    "tot2 = np.sum(sh2,axis=1)\n",
    "tot3 = np.sum(sh3,axis=1)\n",
    "tot3"
   ]
  },
  {
   "cell_type": "code",
   "execution_count": 12,
   "metadata": {},
   "outputs": [
    {
     "data": {
      "text/plain": [
       "<matplotlib.legend.Legend at 0x122a97cd0>"
      ]
     },
     "execution_count": 12,
     "metadata": {},
     "output_type": "execute_result"
    },
    {
     "data": {
      "image/png": "[encoded data removed]",
      "text/plain": [
       "<Figure size 432x288 with 1 Axes>"
      ]
     },
     "metadata": {
      "needs_background": "light"
     },
     "output_type": "display_data"
    }
   ],
   "source": [
    "plt.figure(figsize=(6,4))\n",
    "plt.errorbar(mjd,hr,linestyle='None',marker='o',color='royalblue',label='0.3-1.5, 1.5-10 keV')\n",
    "plt.xlabel('MJD',fontsize=14)\n",
    "plt.ylabel('Hardness Ratio',fontsize=14)\n",
    "plt.legend()"
   ]
  },
  {
   "cell_type": "code",
   "execution_count": 13,
   "metadata": {},
   "outputs": [
    {
     "data": {
      "text/plain": [
       "Text(0, 0.5, 'Counts in Obsid')"
      ]
     },
     "execution_count": 13,
     "metadata": {},
     "output_type": "execute_result"
    },
    {
     "data": {
      "image/png": "[encoded data removed]",
      "text/plain": [
       "<Figure size 720x432 with 4 Axes>"
      ]
     },
     "metadata": {
      "needs_background": "light"
     },
     "output_type": "display_data"
    }
   ],
   "source": [
    "#total counts in obsid not a rate\n",
    "fig,ax = plt.subplots(2,2,figsize=(10,6))\n",
    "ax[0][0].scatter(mjd2,hr2,color='navy')\n",
    "ax[1][0].scatter(mjd2,tot2,color='navy')\n",
    "ax[0][1].scatter(mjd3,hr3,color='navy')\n",
    "ax[1][1].scatter(mjd3,tot3,color='navy')\n",
    "ax[1][0].set_xlabel('MJD-50000',fontsize=14)\n",
    "ax[0][0].set_ylabel('HR',fontsize=14)\n",
    "ax[1][0].set_ylabel('Counts in Obsid',fontsize=14)"
   ]
  },
  {
   "cell_type": "code",
   "execution_count": 14,
   "metadata": {},
   "outputs": [
    {
     "data": {
      "text/plain": [
       "<matplotlib.colorbar.Colorbar at 0x123881dd0>"
      ]
     },
     "execution_count": 14,
     "metadata": {},
     "output_type": "execute_result"
    },
    {
     "data": {
      "image/png": "[encoded data removed]",
      "text/plain": [
       "<Figure size 432x288 with 2 Axes>"
      ]
     },
     "metadata": {
      "needs_background": "light"
     },
     "output_type": "display_data"
    }
   ],
   "source": [
    "plt.scatter(mjd2,tot2,c=hr2,cmap='plasma')\n",
    "plt.colorbar()"
   ]
  },
  {
   "cell_type": "code",
   "execution_count": 15,
   "metadata": {},
   "outputs": [
    {
     "data": {
      "text/plain": [
       "<matplotlib.colorbar.Colorbar at 0x1239c86d0>"
      ]
     },
     "execution_count": 15,
     "metadata": {},
     "output_type": "execute_result"
    },
    {
     "data": {
      "image/png": "[encoded data removed]",
      "text/plain": [
       "<Figure size 432x288 with 2 Axes>"
      ]
     },
     "metadata": {
      "needs_background": "light"
     },
     "output_type": "display_data"
    }
   ],
   "source": [
    "plt.scatter(mjd3,tot3,c=hr3,cmap='plasma')\n",
    "plt.colorbar(label='HR')"
   ]
  },
  {
   "cell_type": "markdown",
   "metadata": {},
   "source": [
    "# Strategy 2: Use PCHR.qdp file\n",
    "- should have similar binning but could help with rate issue"
   ]
  },
  {
   "cell_type": "code",
   "execution_count": 16,
   "metadata": {},
   "outputs": [
    {
     "data": {
      "text/html": [
       "<div>\n",
       "<style scoped>\n",
       "    .dataframe tbody tr th:only-of-type {\n",
       "        vertical-align: middle;\n",
       "    }\n",
       "\n",
       "    .dataframe tbody tr th {\n",
       "        vertical-align: top;\n",
       "    }\n",
       "\n",
       "    .dataframe thead th {\n",
       "        text-align: right;\n",
       "    }\n",
       "</style>\n",
       "<table border=\"1\" class=\"dataframe\">\n",
       "  <thead>\n",
       "    <tr style=\"text-align: right;\">\n",
       "      <th></th>\n",
       "      <th>Time</th>\n",
       "      <th>T_+ve</th>\n",
       "      <th>T_-ve</th>\n",
       "      <th>HardRate</th>\n",
       "      <th>Harderr</th>\n",
       "      <th>HardSig</th>\n",
       "      <th>SoftRate</th>\n",
       "      <th>SoftErr</th>\n",
       "      <th>SoftSig</th>\n",
       "      <th>HR</th>\n",
       "      <th>HRerr</th>\n",
       "      <th>FracExp</th>\n",
       "      <th>Exposure</th>\n",
       "      <th>OBSID</th>\n",
       "    </tr>\n",
       "  </thead>\n",
       "  <tbody>\n",
       "    <tr>\n",
       "      <th>0</th>\n",
       "      <td>1.970040e+02</td>\n",
       "      <td>160.467</td>\n",
       "      <td>-160.467</td>\n",
       "      <td>0.004066</td>\n",
       "      <td>0.004243</td>\n",
       "      <td>61.034611</td>\n",
       "      <td>-0.000277</td>\n",
       "      <td>0.000084</td>\n",
       "      <td>0.000000</td>\n",
       "      <td>-14.669020</td>\n",
       "      <td>-15.932969</td>\n",
       "      <td>1.000000</td>\n",
       "      <td>320.9344</td>\n",
       "      <td>::ObsID=00033493001</td>\n",
       "    </tr>\n",
       "    <tr>\n",
       "      <th>1</th>\n",
       "      <td>1.031655e+06</td>\n",
       "      <td>340.993</td>\n",
       "      <td>-340.993</td>\n",
       "      <td>0.003849</td>\n",
       "      <td>0.002814</td>\n",
       "      <td>97.999908</td>\n",
       "      <td>0.001706</td>\n",
       "      <td>0.001991</td>\n",
       "      <td>29.396829</td>\n",
       "      <td>2.256044</td>\n",
       "      <td>3.107081</td>\n",
       "      <td>1.000000</td>\n",
       "      <td>681.9856</td>\n",
       "      <td>::ObsID=00033493002</td>\n",
       "    </tr>\n",
       "    <tr>\n",
       "      <th>2</th>\n",
       "      <td>1.092425e+08</td>\n",
       "      <td>262.531</td>\n",
       "      <td>-262.531</td>\n",
       "      <td>0.249412</td>\n",
       "      <td>0.025239</td>\n",
       "      <td>1496.790552</td>\n",
       "      <td>0.098628</td>\n",
       "      <td>0.015885</td>\n",
       "      <td>523.677178</td>\n",
       "      <td>2.528823</td>\n",
       "      <td>0.481008</td>\n",
       "      <td>0.950275</td>\n",
       "      <td>498.9527</td>\n",
       "      <td>::ObsID=00094083001</td>\n",
       "    </tr>\n",
       "    <tr>\n",
       "      <th>3</th>\n",
       "      <td>1.104350e+08</td>\n",
       "      <td>255.083</td>\n",
       "      <td>-255.083</td>\n",
       "      <td>0.123942</td>\n",
       "      <td>0.018147</td>\n",
       "      <td>708.683084</td>\n",
       "      <td>0.028404</td>\n",
       "      <td>0.008761</td>\n",
       "      <td>138.972262</td>\n",
       "      <td>4.363489</td>\n",
       "      <td>1.489880</td>\n",
       "      <td>0.953445</td>\n",
       "      <td>486.4162</td>\n",
       "      <td>::ObsID=00094083003</td>\n",
       "    </tr>\n",
       "    <tr>\n",
       "      <th>4</th>\n",
       "      <td>1.122732e+08</td>\n",
       "      <td>261.162</td>\n",
       "      <td>-261.162</td>\n",
       "      <td>0.008192</td>\n",
       "      <td>0.004820</td>\n",
       "      <td>128.658634</td>\n",
       "      <td>0.002330</td>\n",
       "      <td>0.002712</td>\n",
       "      <td>23.732897</td>\n",
       "      <td>3.515443</td>\n",
       "      <td>4.584918</td>\n",
       "      <td>0.936052</td>\n",
       "      <td>488.9235</td>\n",
       "      <td>::ObsID=00094083004</td>\n",
       "    </tr>\n",
       "  </tbody>\n",
       "</table>\n",
       "</div>"
      ],
      "text/plain": [
       "           Time    T_+ve    T_-ve  HardRate   Harderr      HardSig  SoftRate  \\\n",
       "0  1.970040e+02  160.467 -160.467  0.004066  0.004243    61.034611 -0.000277   \n",
       "1  1.031655e+06  340.993 -340.993  0.003849  0.002814    97.999908  0.001706   \n",
       "2  1.092425e+08  262.531 -262.531  0.249412  0.025239  1496.790552  0.098628   \n",
       "3  1.104350e+08  255.083 -255.083  0.123942  0.018147   708.683084  0.028404   \n",
       "4  1.122732e+08  261.162 -261.162  0.008192  0.004820   128.658634  0.002330   \n",
       "\n",
       "    SoftErr     SoftSig         HR      HRerr   FracExp  Exposure  \\\n",
       "0  0.000084    0.000000 -14.669020 -15.932969  1.000000  320.9344   \n",
       "1  0.001991   29.396829   2.256044   3.107081  1.000000  681.9856   \n",
       "2  0.015885  523.677178   2.528823   0.481008  0.950275  498.9527   \n",
       "3  0.008761  138.972262   4.363489   1.489880  0.953445  486.4162   \n",
       "4  0.002712   23.732897   3.515443   4.584918  0.936052  488.9235   \n",
       "\n",
       "                 OBSID  \n",
       "0  ::ObsID=00033493001  \n",
       "1  ::ObsID=00033493002  \n",
       "2  ::ObsID=00094083001  \n",
       "3  ::ObsID=00094083003  \n",
       "4  ::ObsID=00094083004  "
      ]
     },
     "execution_count": 16,
     "metadata": {},
     "output_type": "execute_result"
    }
   ],
   "source": [
    "cols=['Time','T_+ve','T_-ve','HardRate','Harderr','HardSig',\n",
    "      'SoftRate','SoftErr','SoftSig','HR','HRerr','FracExp',\n",
    "      'Exposure','OBSID']\n",
    "pc = pd.read_csv('LXP69.5_Swift/lc/PCHR.qdp',delimiter='\\s+',skiprows=2,comment='!',names=cols,engine='python')\n",
    "pc.head()"
   ]
  },
  {
   "cell_type": "code",
   "execution_count": 17,
   "metadata": {},
   "outputs": [
    {
     "name": "stdout",
     "output_type": "stream",
     "text": [
      "25 26\n"
     ]
    }
   ],
   "source": [
    "#not sure of reason for difference of length\n",
    "print(len(pc),len(hr))"
   ]
  },
  {
   "cell_type": "code",
   "execution_count": 18,
   "metadata": {},
   "outputs": [
    {
     "data": {
      "text/plain": [
       "(-20, 12)"
      ]
     },
     "execution_count": 18,
     "metadata": {},
     "output_type": "execute_result"
    },
    {
     "data": {
      "image/png": "[encoded data removed]",
      "text/plain": [
       "<Figure size 432x288 with 1 Axes>"
      ]
     },
     "metadata": {
      "needs_background": "light"
     },
     "output_type": "display_data"
    }
   ],
   "source": [
    "#remember this is the simpler HR of hard/soft\n",
    "plt.scatter(pc['Time'],pc['HR'])\n",
    "# plt.xlim(1e8,1.4e8)\n",
    "plt.ylim(-20,12)"
   ]
  },
  {
   "cell_type": "markdown",
   "metadata": {},
   "source": [
    "## see effect of using their def of HR (hard counts/soft counts)"
   ]
  },
  {
   "cell_type": "code",
   "execution_count": 19,
   "metadata": {},
   "outputs": [
    {
     "data": {
      "text/plain": [
       "Text(0.5, 0, 'Time (s)')"
      ]
     },
     "execution_count": 19,
     "metadata": {},
     "output_type": "execute_result"
    },
    {
     "data": {
      "image/png": "[encoded data removed]",
      "text/plain": [
       "<Figure size 432x288 with 2 Axes>"
      ]
     },
     "metadata": {
      "needs_background": "light"
     },
     "output_type": "display_data"
    }
   ],
   "source": [
    "#same plot but zoom in on flares\n",
    "#first and second outburst on top and bottom\n",
    "fig,ax = plt.subplots(2,1)\n",
    "ax[1].errorbar(pc['Time'],pc['HR'],yerr=pc['HRerr'],xerr=pc['T_+ve'],linestyle='none',marker='o',color='navy')\n",
    "ax[1].set_xlim(1.78e8,1.84e8)\n",
    "ax[1].set_ylim(0,5)\n",
    "\n",
    "ax[0].errorbar(pc['Time'],pc['HR'],yerr=pc['HRerr'],xerr=pc['T_+ve'],linestyle='none',marker='o',color='navy')\n",
    "ax[0].set_xlim(1.1e8,1.3e8)\n",
    "ax[0].set_ylim(-2,6)\n",
    "plt.ylabel('Hard/Soft')\n",
    "plt.xlabel('Time (s)')"
   ]
  },
  {
   "cell_type": "code",
   "execution_count": 20,
   "metadata": {
    "collapsed": true,
    "jupyter": {
     "outputs_hidden": true
    }
   },
   "outputs": [
    {
     "name": "stderr",
     "output_type": "stream",
     "text": [
      "/opt/anaconda3/lib/python3.7/site-packages/ipykernel_launcher.py:15: SettingWithCopyWarning: \n",
      "A value is trying to be set on a copy of a slice from a DataFrame\n",
      "\n",
      "See the caveats in the documentation: https://pandas.pydata.org/pandas-docs/stable/user_guide/indexing.html#returning-a-view-versus-a-copy\n",
      "  from ipykernel import kernelapp as app\n",
      "/opt/anaconda3/lib/python3.7/site-packages/ipykernel_launcher.py:16: SettingWithCopyWarning: \n",
      "A value is trying to be set on a copy of a slice from a DataFrame\n",
      "\n",
      "See the caveats in the documentation: https://pandas.pydata.org/pandas-docs/stable/user_guide/indexing.html#returning-a-view-versus-a-copy\n",
      "  app.launch_new_instance()\n",
      "/opt/anaconda3/lib/python3.7/site-packages/ipykernel_launcher.py:17: SettingWithCopyWarning: \n",
      "A value is trying to be set on a copy of a slice from a DataFrame\n",
      "\n",
      "See the caveats in the documentation: https://pandas.pydata.org/pandas-docs/stable/user_guide/indexing.html#returning-a-view-versus-a-copy\n"
     ]
    }
   ],
   "source": [
    "#use file to get regular hardness ratios; compare to method with evt file\n",
    "har=pc['HardRate']\n",
    "sof=pc['SoftRate']\n",
    "pc['TotalRate']=har+sof\n",
    "he=pc['Harderr']\n",
    "se=pc['SoftErr']\n",
    "h_ar=unumpy.uarray(har,he)\n",
    "s_ar=unumpy.uarray(sof,se)\n",
    "hardrat = (h_ar-s_ar)/(h_ar+s_ar)\n",
    "tot=h_ar+s_ar\n",
    "pc['TotErr']=np.zeros(25)\n",
    "pc['HardRat']=np.zeros(25)\n",
    "pc['HardRat Err']=np.zeros(25)\n",
    "for r in range(len(har)):\n",
    "    pc['TotErr'][r]=tot[r].s\n",
    "    pc['HardRat'][r]=hardrat[r].n\n",
    "    pc['HardRat Err'][r]=hardrat[r].s"
   ]
  },
  {
   "cell_type": "code",
   "execution_count": 21,
   "metadata": {},
   "outputs": [
    {
     "data": {
      "text/plain": [
       "Text(0.5, 0, 'Time (s)')"
      ]
     },
     "execution_count": 21,
     "metadata": {},
     "output_type": "execute_result"
    },
    {
     "data": {
      "image/png": "[encoded data removed]",
      "text/plain": [
       "<Figure size 432x288 with 2 Axes>"
      ]
     },
     "metadata": {
      "needs_background": "light"
     },
     "output_type": "display_data"
    }
   ],
   "source": [
    "fig,ax = plt.subplots(2,1)\n",
    "ax[1].errorbar(pc['Time'],pc['HardRat'],yerr=pc['HardRat Err'],xerr=pc['T_+ve'],linestyle='none',marker='o',color='navy')\n",
    "ax[1].set_xlim(1.79e8,1.82e8)\n",
    "ax[1].set_ylim(0,1)\n",
    "\n",
    "ax[0].errorbar(pc['Time'],pc['HardRat'],yerr=pc['HardRat Err'],xerr=pc['T_+ve'],linestyle='none',marker='o',color='navy')\n",
    "ax[0].set_xlim(1.1e8,1.3e8)\n",
    "# ax[0].set_ylim(-2,6)\n",
    "plt.ylabel('HR')\n",
    "plt.xlabel('Time (s)')"
   ]
  },
  {
   "cell_type": "code",
   "execution_count": 22,
   "metadata": {},
   "outputs": [
    {
     "data": {
      "text/plain": [
       "Text(0, 0.5, 'Total Rate')"
      ]
     },
     "execution_count": 22,
     "metadata": {},
     "output_type": "execute_result"
    },
    {
     "data": {
      "image/png": "[encoded data removed]",
      "text/plain": [
       "<Figure size 432x288 with 2 Axes>"
      ]
     },
     "metadata": {
      "needs_background": "light"
     },
     "output_type": "display_data"
    }
   ],
   "source": [
    "#similar to Reig plots\n",
    "#can change x lims\n",
    "plt.errorbar(pc['HardRat'],pc['TotalRate'],yerr=pc['TotErr'],xerr=pc['HardRat Err'],linestyle='none',alpha=.4)\n",
    "plt.scatter(pc['HardRat'],pc['TotalRate'],c=pc['Time'],cmap='plasma')\n",
    "plt.colorbar(label='Time')\n",
    "plt.xlim(-.1,1)\n",
    "# plt.ylim(0,1)\n",
    "plt.yscale('log')\n",
    "plt.xlabel('HR')\n",
    "plt.ylabel('Total Rate')"
   ]
  },
  {
   "cell_type": "code",
   "execution_count": 23,
   "metadata": {},
   "outputs": [
    {
     "data": {
      "text/plain": [
       "Text(0, 0.5, 'Total Rate')"
      ]
     },
     "execution_count": 23,
     "metadata": {},
     "output_type": "execute_result"
    },
    {
     "data": {
      "image/png": "[encoded data removed]",
      "text/plain": [
       "<Figure size 432x288 with 2 Axes>"
      ]
     },
     "metadata": {
      "needs_background": "light"
     },
     "output_type": "display_data"
    }
   ],
   "source": [
    "#using H/R, cutting out outliers near -20 and 20\n",
    "plt.errorbar(pc['HR'],pc['TotalRate'],yerr=pc['TotErr'],xerr=pc['HRerr'],linestyle='none',alpha=.4)\n",
    "plt.scatter(pc['HR'],pc['TotalRate'],c=pc['Time'],cmap='plasma')\n",
    "plt.colorbar(label='Time')\n",
    "plt.xlim(-2,5)\n",
    "# plt.ylim(0,1)\n",
    "plt.yscale('log')\n",
    "plt.xlabel('H/R')\n",
    "plt.ylabel('Total Rate')"
   ]
  },
  {
   "cell_type": "code",
   "execution_count": 24,
   "metadata": {},
   "outputs": [
    {
     "data": {
      "text/plain": [
       "<matplotlib.collections.PathCollection at 0x123ff6b50>"
      ]
     },
     "execution_count": 24,
     "metadata": {},
     "output_type": "execute_result"
    },
    {
     "data": {
      "image/png": "[encoded data removed]",
      "text/plain": [
       "<Figure size 432x288 with 1 Axes>"
      ]
     },
     "metadata": {
      "needs_background": "light"
     },
     "output_type": "display_data"
    }
   ],
   "source": [
    "plt.scatter(hr[1:],pc['HardRat'],color='black') #trying to compare first and second methods"
   ]
  },
  {
   "cell_type": "code",
   "execution_count": 25,
   "metadata": {},
   "outputs": [
    {
     "data": {
      "text/plain": [
       "<matplotlib.collections.PathCollection at 0x124371fd0>"
      ]
     },
     "execution_count": 25,
     "metadata": {},
     "output_type": "execute_result"
    },
    {
     "data": {
      "image/png": "[encoded data removed]",
      "text/plain": [
       "<Figure size 432x288 with 1 Axes>"
      ]
     },
     "metadata": {
      "needs_background": "light"
     },
     "output_type": "display_data"
    }
   ],
   "source": [
    "#same axes\n",
    "plt.scatter(mt-mt[0],hr,color='black')\n",
    "plt.scatter(pc['Time'],pc['HardRat'],color='maroon',marker='x')"
   ]
  },
  {
   "cell_type": "code",
   "execution_count": 26,
   "metadata": {},
   "outputs": [
    {
     "data": {
      "text/plain": [
       "Text(0.5, 0, 'Time')"
      ]
     },
     "execution_count": 26,
     "metadata": {},
     "output_type": "execute_result"
    },
    {
     "data": {
      "image/png": "[encoded data removed]",
      "text/plain": [
       "<Figure size 504x864 with 3 Axes>"
      ]
     },
     "metadata": {
      "needs_background": "light"
     },
     "output_type": "display_data"
    }
   ],
   "source": [
    "fig,ax=plt.subplots(3,1,figsize=(7,12))\n",
    "plt.subplots_adjust(hspace=.3)\n",
    "ax[0].errorbar(pc['Time'],pc['HardRat'],yerr=pc['HardRat Err'],color='royalblue',linestyle='None',marker='o')\n",
    "\n",
    "ax[1].errorbar(pc['TotalRate'],pc['HardRat'],yerr=pc['HardRat Err'],xerr=pc['TotErr'],color='palevioletred',linestyle='None',marker='o')\n",
    "ax[2].errorbar(pc['Time'],pc['TotalRate'],yerr=pc['TotErr'],color='maroon',linestyle='None',marker='o')\n",
    "\n",
    "#ax[2].errorbar(pcr['MJD'],pcr['Rate'],yerr=pcr['Error'],color='mediumorchid',linestyle='None',marker='x',label='PC ratio')\n",
    "\n",
    "#ax[2].legend()\n",
    "#plt.setp(ax[:2], ylim=(0,8))\n",
    "#plt.setp(ax, xlim=(56640,56725))\n",
    "ax[0].set_ylabel('Hardness Ratio (H-S)/(H+S)',fontsize=14)\n",
    "ax[1].set_ylabel('Hardness Ratio (H-S)/(H+S)',fontsize=14)\n",
    "ax[2].set_ylabel('Total Rate',fontsize=14)\n",
    "ax[2].set_yscale('log')\n",
    "ax[0].set_xlabel('Time',fontsize=14)\n",
    "ax[1].set_xlabel('Total Rate',fontsize=14)\n",
    "ax[1].set_xscale('log')\n",
    "ax[2].set_xlabel('Time',fontsize=14)\n",
    "# ax[0].set_xlim(1.78e8,1.84e8)\n",
    "# ax[2].set_xlim(1.78e8,1.84e8)\n",
    "# ax[1].set_ylim(-.5,1.5)"
   ]
  },
  {
   "cell_type": "markdown",
   "metadata": {},
   "source": [
    "# Strategy 3: Separate Hard and Soft Tables\n",
    "- can then determine **bins in time** and count how many in soft and hard tables with ease\n"
   ]
  },
  {
   "cell_type": "code",
   "execution_count": 27,
   "metadata": {},
   "outputs": [],
   "source": [
    "#separate tables for hard and soft events\n",
    "#filtering with PI\n",
    "low = 30\n",
    "cutoff = 150\n",
    "high = 1000\n",
    "soft = evt_data[evt_data['PI']>=low]\n",
    "soft = soft[soft['PI']<=cutoff]\n",
    "\n",
    "hard = evt_data[evt_data['PI']>cutoff]\n",
    "hard = hard[hard['PI']<=high]"
   ]
  },
  {
   "cell_type": "code",
   "execution_count": 28,
   "metadata": {},
   "outputs": [
    {
     "data": {
      "text/plain": [
       "184"
      ]
     },
     "execution_count": 28,
     "metadata": {},
     "output_type": "execute_result"
    }
   ],
   "source": [
    "len(soft)"
   ]
  },
  {
   "cell_type": "code",
   "execution_count": 29,
   "metadata": {},
   "outputs": [
    {
     "data": {
      "text/plain": [
       "0.4860335195530726"
      ]
     },
     "execution_count": 29,
     "metadata": {},
     "output_type": "execute_result"
    }
   ],
   "source": [
    "(len(hard)-len(soft))/(len(hard)+len(soft)) "
   ]
  },
  {
   "cell_type": "code",
   "execution_count": 30,
   "metadata": {},
   "outputs": [],
   "source": [
    "#bins in time (after will be binned by number of events)\n",
    "e1s = soft[soft['day']<8000]\n",
    "e1h = hard[hard['day']<8000]\n",
    "\n",
    "e2s = soft[soft['day']>8000]\n",
    "e2h = hard[hard['day']>8000]\n",
    "e2s = e2s[e2s['day']<8500]\n",
    "e2h = e2h[e2h['day']<8500]\n",
    "\n",
    "e3s = soft[soft['day']>8500]\n",
    "e3h = hard[hard['day']>8500]"
   ]
  },
  {
   "cell_type": "code",
   "execution_count": 31,
   "metadata": {},
   "outputs": [
    {
     "data": {
      "image/png": "[encoded data removed]",
      "text/plain": [
       "<Figure size 432x288 with 1 Axes>"
      ]
     },
     "metadata": {
      "needs_background": "light"
     },
     "output_type": "display_data"
    }
   ],
   "source": [
    "#binned by ten days\n",
    "step2 = 10\n",
    "e2sb = plt.hist(e2s['day'],bins=np.arange(8220,8290,step2),alpha=.4,histtype='step',color='maroon')\n",
    "e2hb = plt.hist(e2h['day'],bins=np.arange(8220,8290,step2),alpha=.4,histtype='step',color='navy')\n"
   ]
  },
  {
   "cell_type": "code",
   "execution_count": 32,
   "metadata": {},
   "outputs": [
    {
     "data": {
      "image/png": "[encoded data removed]",
      "text/plain": [
       "<Figure size 432x288 with 1 Axes>"
      ]
     },
     "metadata": {
      "needs_background": "light"
     },
     "output_type": "display_data"
    }
   ],
   "source": [
    "#binned by five days\n",
    "step3 = 5\n",
    "e3sb = plt.hist(e3s['day'],bins=np.arange(9030,9060,step3),alpha=.4,histtype='step',color='maroon')\n",
    "e3hb = plt.hist(e3h['day'],bins=np.arange(9030,9060,step3),alpha=.4,histtype='step',color='navy')"
   ]
  },
  {
   "cell_type": "code",
   "execution_count": 33,
   "metadata": {},
   "outputs": [
    {
     "name": "stderr",
     "output_type": "stream",
     "text": [
      "/opt/anaconda3/lib/python3.7/site-packages/ipykernel_launcher.py:2: RuntimeWarning: invalid value encountered in true_divide\n",
      "  \n"
     ]
    }
   ],
   "source": [
    "#compute HRs for each bin\n",
    "e2hr = (e2hb[0]-e2sb[0])/(e2hb[0]+e2sb[0])\n",
    "e3hr = (e3hb[0]-e3sb[0])/(e3hb[0]+e3sb[0])"
   ]
  },
  {
   "cell_type": "code",
   "execution_count": 34,
   "metadata": {},
   "outputs": [
    {
     "data": {
      "text/plain": [
       "array([8225., 8235., 8245., 8255., 8265., 8275.])"
      ]
     },
     "execution_count": 34,
     "metadata": {},
     "output_type": "execute_result"
    }
   ],
   "source": [
    "e2t = np.arange(8220+step2/2,8290-step2/2,step2)\n",
    "e2t"
   ]
  },
  {
   "cell_type": "code",
   "execution_count": 35,
   "metadata": {},
   "outputs": [
    {
     "data": {
      "text/plain": [
       "array([9030, 9035, 9040, 9045, 9050, 9055])"
      ]
     },
     "execution_count": 35,
     "metadata": {},
     "output_type": "execute_result"
    }
   ],
   "source": [
    "e3sb[1]\n"
   ]
  },
  {
   "cell_type": "code",
   "execution_count": 36,
   "metadata": {},
   "outputs": [
    {
     "data": {
      "text/plain": [
       "array([9032.5, 9037.5, 9042.5, 9047.5, 9052.5])"
      ]
     },
     "execution_count": 36,
     "metadata": {},
     "output_type": "execute_result"
    }
   ],
   "source": [
    "e3t = np.arange(9030+step3/2,9060-step3,step3)\n",
    "e3t"
   ]
  },
  {
   "cell_type": "code",
   "execution_count": 37,
   "metadata": {},
   "outputs": [
    {
     "data": {
      "text/plain": [
       "<matplotlib.colorbar.Colorbar at 0x124bfebd0>"
      ]
     },
     "execution_count": 37,
     "metadata": {},
     "output_type": "execute_result"
    },
    {
     "data": {
      "image/png": "[encoded data removed]",
      "text/plain": [
       "<Figure size 432x288 with 2 Axes>"
      ]
     },
     "metadata": {
      "needs_background": "light"
     },
     "output_type": "display_data"
    }
   ],
   "source": [
    "#hr vs time for archival outburst; notice very few counts in final bins\n",
    "plt.scatter(e2t,e2hr,c=e2sb[0]+e2hb[0])\n",
    "plt.xlabel('time')\n",
    "plt.ylabel('hr')\n",
    "plt.colorbar(label='total counts')"
   ]
  },
  {
   "cell_type": "code",
   "execution_count": 38,
   "metadata": {},
   "outputs": [
    {
     "data": {
      "text/plain": [
       "Text(0, 0.5, 'hr')"
      ]
     },
     "execution_count": 38,
     "metadata": {},
     "output_type": "execute_result"
    },
    {
     "data": {
      "image/png": "[encoded data removed]",
      "text/plain": [
       "<Figure size 432x288 with 1 Axes>"
      ]
     },
     "metadata": {
      "needs_background": "light"
     },
     "output_type": "display_data"
    }
   ],
   "source": [
    "#hr vs. time for June outburst decay\n",
    "plt.scatter(e3t,e3hr,color='darkseagreen')\n",
    "plt.xlabel('time')\n",
    "plt.ylabel('hr')"
   ]
  },
  {
   "cell_type": "markdown",
   "metadata": {},
   "source": [
    "# Strategy 4: Even Division of Events\n",
    "- so not even binning in time, could be across obsids"
   ]
  },
  {
   "cell_type": "code",
   "execution_count": 39,
   "metadata": {},
   "outputs": [],
   "source": [
    "def binev(ev,n,low=30,mid=150,high=1000):\n",
    "    #computes ratio for every n events\n",
    "    ratios = []\n",
    "    tims = []\n",
    "    tab = ev[ev['PI']>=low]\n",
    "    tab = tab[tab['PI']<=high]\n",
    "    for i in range(len(tab)):\n",
    "        hard = tab[n*i:n*(i+1)][tab[n*i:n*(i+1)]['PI']>mid]\n",
    "        soft = tab[n*i:n*(i+1)][tab[n*i:n*(i+1)]['PI']<mid]\n",
    "        t = np.mean(tab['TIME'][n*i:n*(i+1)])\n",
    "        if len(hard) > 0 and len(soft) > 0:\n",
    "            rat = (len(hard)-len(soft))/(len(hard)+len(soft))\n",
    "            ratios.append(rat)\n",
    "            tims.append(t)\n",
    "    return ratios, tims"
   ]
  },
  {
   "cell_type": "code",
   "execution_count": 40,
   "metadata": {},
   "outputs": [
    {
     "data": {
      "text/plain": [
       "224"
      ]
     },
     "execution_count": 40,
     "metadata": {},
     "output_type": "execute_result"
    }
   ],
   "source": [
    "len(e2)"
   ]
  },
  {
   "cell_type": "code",
   "execution_count": 41,
   "metadata": {},
   "outputs": [
    {
     "name": "stderr",
     "output_type": "stream",
     "text": [
      "/opt/anaconda3/lib/python3.7/site-packages/numpy/core/fromnumeric.py:3332: RuntimeWarning: Mean of empty slice.\n",
      "  return mean(axis=axis, dtype=dtype, out=out, **kwargs)\n",
      "/opt/anaconda3/lib/python3.7/site-packages/numpy/core/_methods.py:161: RuntimeWarning: invalid value encountered in double_scalars\n",
      "  ret = ret.dtype.type(ret / rcount)\n"
     ]
    }
   ],
   "source": [
    "#can try different numbers of events\n",
    "e2r, e2tim = binev(e2,50)"
   ]
  },
  {
   "cell_type": "code",
   "execution_count": 42,
   "metadata": {},
   "outputs": [
    {
     "data": {
      "text/plain": [
       "<matplotlib.collections.PathCollection at 0x124cf90d0>"
      ]
     },
     "execution_count": 42,
     "metadata": {},
     "output_type": "execute_result"
    },
    {
     "data": {
      "image/png": "[encoded data removed]",
      "text/plain": [
       "<Figure size 432x288 with 1 Axes>"
      ]
     },
     "metadata": {
      "needs_background": "light"
     },
     "output_type": "display_data"
    }
   ],
   "source": [
    "plt.scatter(e2tim,e2r)\n"
   ]
  },
  {
   "cell_type": "code",
   "execution_count": 43,
   "metadata": {},
   "outputs": [],
   "source": [
    "e3r, e3tim = binev(e3,100)"
   ]
  },
  {
   "cell_type": "code",
   "execution_count": 44,
   "metadata": {},
   "outputs": [
    {
     "data": {
      "text/plain": [
       "<matplotlib.collections.PathCollection at 0x124e33650>"
      ]
     },
     "execution_count": 44,
     "metadata": {},
     "output_type": "execute_result"
    },
    {
     "data": {
      "image/png": "[encoded data removed]",
      "text/plain": [
       "<Figure size 432x288 with 1 Axes>"
      ]
     },
     "metadata": {
      "needs_background": "light"
     },
     "output_type": "display_data"
    }
   ],
   "source": [
    "plt.scatter(e3tim,e3r)"
   ]
  },
  {
   "cell_type": "markdown",
   "metadata": {},
   "source": [
    "# Other Tests\n"
   ]
  },
  {
   "cell_type": "code",
   "execution_count": 45,
   "metadata": {},
   "outputs": [
    {
     "data": {
      "text/plain": [
       "(array([12., 27., 15., 14., 14.,  8., 10., 10.,  2.,  0.]),\n",
       " array([ 30, 107, 184, 261, 338, 415, 492, 569, 646, 723, 800]),\n",
       " <a list of 1 Patch objects>)"
      ]
     },
     "execution_count": 45,
     "metadata": {},
     "output_type": "execute_result"
    },
    {
     "data": {
      "image/png": "[encoded data removed]",
      "text/plain": [
       "<Figure size 432x288 with 1 Axes>"
      ]
     },
     "metadata": {
      "needs_background": "light"
     },
     "output_type": "display_data"
    }
   ],
   "source": [
    "plt.hist(e3['PI'][:248],bins=np.arange(30,877,77),histtype='step')\n",
    "plt.hist(e3['PI'][248:],bins=np.arange(30,877,77),histtype='step')\n",
    "\n",
    "plt.hist(e2['PI'][:112],bins=np.arange(30,877,77),histtype='step')\n",
    "plt.hist(e2['PI'][112:],bins=np.arange(30,877,77),histtype='step')"
   ]
  },
  {
   "cell_type": "code",
   "execution_count": 46,
   "metadata": {},
   "outputs": [
    {
     "data": {
      "image/png": "[encoded data removed]",
      "text/plain": [
       "<Figure size 432x288 with 1 Axes>"
      ]
     },
     "metadata": {
      "needs_background": "light"
     },
     "output_type": "display_data"
    }
   ],
   "source": [
    "a = plt.hist2d(e3['TIME'],e3['PI'])"
   ]
  },
  {
   "cell_type": "code",
   "execution_count": 47,
   "metadata": {},
   "outputs": [
    {
     "data": {
      "text/plain": [
       "array([21., 33., 27., 23., 20., 11.,  6.,  3.,  1.,  0.])"
      ]
     },
     "execution_count": 47,
     "metadata": {},
     "output_type": "execute_result"
    }
   ],
   "source": [
    "#want to normalize each column\n",
    "a[0][2,:] #third column, starting from bottom"
   ]
  },
  {
   "cell_type": "code",
   "execution_count": 48,
   "metadata": {},
   "outputs": [
    {
     "name": "stderr",
     "output_type": "stream",
     "text": [
      "/opt/anaconda3/lib/python3.7/site-packages/ipykernel_launcher.py:4: RuntimeWarning: invalid value encountered in true_divide\n",
      "  after removing the cwd from sys.path.\n"
     ]
    }
   ],
   "source": [
    "b = np.zeros((10,10))\n",
    "for i in range(10):\n",
    "    med = np.nanmedian(a[0][i,:])\n",
    "    b[:,i] = a[0][i,:]/med"
   ]
  },
  {
   "cell_type": "code",
   "execution_count": 49,
   "metadata": {},
   "outputs": [
    {
     "data": {
      "text/plain": [
       "Text(0.5, 0, 'Time')"
      ]
     },
     "execution_count": 49,
     "metadata": {},
     "output_type": "execute_result"
    },
    {
     "data": {
      "image/png": "[encoded data removed]",
      "text/plain": [
       "<Figure size 432x288 with 2 Axes>"
      ]
     },
     "metadata": {
      "needs_background": "light"
     },
     "output_type": "display_data"
    }
   ],
   "source": [
    "plt.imshow(b,origin='lower',vmax=6)\n",
    "plt.colorbar()\n",
    "plt.ylabel('Energy')\n",
    "plt.xlabel('Time')"
   ]
  }
 ],
 "metadata": {
  "kernelspec": {
   "display_name": "Python 3",
   "language": "python",
   "name": "python3"
  },
  "language_info": {
   "codemirror_mode": {
    "name": "ipython",
    "version": 3
   },
   "file_extension": ".py",
   "mimetype": "text/x-python",
   "name": "python",
   "nbconvert_exporter": "python",
   "pygments_lexer": "ipython3",
   "version": "3.7.6"
  }
 },
 "nbformat": 4,
 "nbformat_minor": 4
}
